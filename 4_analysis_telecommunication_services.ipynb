{
 "cells": [
  {
   "cell_type": "markdown",
   "id": "fbff87a2",
   "metadata": {},
   "source": [
    "***Megaline Internet***"
   ]
  },
  {
   "cell_type": "markdown",
   "id": "cb0fbe65",
   "metadata": {},
   "source": [
    "# Contenido<a id='contenido'></a>\n",
    "* [Introducción](#int)\n",
    "* [Inicialización de datos](#ini)\n",
    "* [Preparación de datos](#pre)\n",
    "* [Análisis de datos](#ana)\n",
    "* [Prueba de hipótesis](#hip)\n",
    "* [Conclusión general](#con)"
   ]
  },
  {
   "cell_type": "markdown",
   "id": "b06972d3",
   "metadata": {},
   "source": [
    "# Introducción<a id='intr'></a>"
   ]
  },
  {
   "cell_type": "markdown",
   "id": "9e26d14d",
   "metadata": {},
   "source": [
    "El operador de telecomunicaciones Megaline ofrece a sus clientes dos tarifas de prepago, Surf y Ultimate. El departamento comercial quiere saber cuál de los planes genera más ingresos para ajustar el presupuesto de publicidad.\n",
    "Vas a realizar un análisis preliminar de las tarifas basado en una selección de clientes relativamente pequeña. Tendrás los datos de 500 clientes de Megaline: quiénes son los clientes, de dónde son, qué tarifa usan y la cantidad de llamadas que hicieron y los mensajes de texto que enviaron en 2018. Tu trabajo es analizar el comportamiento de los clientes y determinar qué tarifa de prepago genera más ingresos.\n",
    "\n",
    "* Surf\n",
    "    - Pago mensual: 20 USD\n",
    "    - 500 minutos al mes, 50 SMS y 15 GB de datos\n",
    "    - Si se exceden los límites del paquete:\n",
    "    - 1 minuto: 3 centavos\n",
    "    - 1 SMS: 3 centavos\n",
    "    - 1 GB de datos: 10 USD\n",
    "* Ultimate\n",
    "    - Pago mensual: 70 USD\n",
    "    - 3000 minutos al mes, 1000 SMS y 30 GB de datos\n",
    "    - Si se exceden los límites del paquete:\n",
    "    - 1 minuto: 1 centavo\n",
    "    - 1 SMS: 1 centavo\n",
    "    - 1 GB de datos: 7 USD\n",
    "\n",
    "## Objetivos\n",
    "\n",
    "Determinar cuál tarifa de prepago genera más ingresos, por lo que se tiene que probar las siguientes hipótesis:\n",
    "*  El ingreso promedio de los usuarios de las tarifas Ultimate y Surf difiere.\n",
    "*  El ingreso promedio de los usuarios en el área de estados Nueva York - Nueva Jersey es diferente al de los usuarios de otras regiones.\n"
   ]
  },
  {
   "cell_type": "markdown",
   "id": "9783f26d",
   "metadata": {},
   "source": [
    "# Inicialización de datos<a id='ini'></a>"
   ]
  },
  {
   "cell_type": "markdown",
   "id": "feca9b1c",
   "metadata": {
    "ExecuteTime": {
     "end_time": "2022-12-26T20:46:57.198238Z",
     "start_time": "2022-12-26T20:46:57.141969Z"
    }
   },
   "source": [
    "**Librerias y carga de datos**"
   ]
  },
  {
   "cell_type": "code",
   "execution_count": 1,
   "id": "d3e9af80",
   "metadata": {
    "ExecuteTime": {
     "end_time": "2023-01-05T13:45:24.098477Z",
     "start_time": "2023-01-05T13:45:23.075577Z"
    }
   },
   "outputs": [],
   "source": [
    "# librerias\n",
    "import pandas as pd\n",
    "import matplotlib.pyplot as plt\n",
    "from scipy import stats as st\n",
    "import numpy as np\n",
    "import math\n",
    "import matplotlib.pyplot as plt"
   ]
  },
  {
   "cell_type": "code",
   "execution_count": 2,
   "id": "51ac1f6f",
   "metadata": {
    "ExecuteTime": {
     "end_time": "2023-01-05T13:45:24.301128Z",
     "start_time": "2023-01-05T13:45:24.098477Z"
    }
   },
   "outputs": [],
   "source": [
    "# carga de datos\n",
    "try:\n",
    "    calls    = pd.read_csv('megaline_calls.csv')\n",
    "    internet = pd.read_csv('megaline_internet.csv')\n",
    "    messages = pd.read_csv('megaline_messages.csv')\n",
    "    plans    = pd.read_csv('megaline_plans.csv')\n",
    "    users    = pd.read_csv('megaline_users.csv')\n",
    "except:\n",
    "    calls    = pd.read_csv('/datasets/megaline_calls.csv')\n",
    "    internet = pd.read_csv('/datasets/megaline_internet.csv')\n",
    "    messages = pd.read_csv('/datasets/megaline_messages.csv')\n",
    "    plans    = pd.read_csv('/datasets/megaline_plans.csv')\n",
    "    users    = pd.read_csv('/datasets/megaline_users.csv')\n",
    "    "
   ]
  },
  {
   "cell_type": "markdown",
   "id": "6d1691d1",
   "metadata": {},
   "source": [
    "**Exploración de datos iniciales:**\n",
    "\n",
    "La tabla calls (datos sobre las llamadas):\n",
    "* `id` — identificador único de la llamada\n",
    "* `call_date` — fecha de la llamada\n",
    "* `duration` — duración de la llamada (en minutos)\n",
    "* `user_id` — el identificador del usuario que realiza la llamada\n",
    "\n",
    "La tabla internet (datos sobre las sesiones web):\n",
    "* `id` — identificador único de la sesión\n",
    "* `mb_used` — el volumen de datos gastados durante la sesión (en megabytes)\n",
    "* `session_date` — fecha de la sesión web\n",
    "* `user_id` — identificador del usuario\n",
    "\n",
    "La tabla messages (datos sobre los SMS):\n",
    "* `id` — identificador único del SMS\n",
    "* `message_date` — fecha del SMS\n",
    "* `user_id` — el identificador del usuario que manda el SMS\n",
    "\n",
    "La tabla plans (datos sobre las tarifas):\n",
    "* `plan_name` — nombre de la tarifa\n",
    "* `usd_monthly_fee` — pago mensual en dólares estadounidenses\n",
    "* `minutes_included` — minutos incluidos al mes\n",
    "* `messages_included` — SMS incluidos al mes\n",
    "* `mb_per_month_included` — datos incluidos al mes (en megabytes)\n",
    "* `usd_per_minute` — precio por minuto tras exceder los límites del paquete (por ejemplo, si el paquete incluye 100 minutos el operador cobrará el minuto 101)\n",
    "* `usd_per_message` — precio por SMS tras exceder los límites del paquete\n",
    "* `usd_per_gb` — precio por gigabyte de los datos extra tras exceder los límites del paquete (1 GB = 1024 megabytes)\n",
    "\n",
    "La tabla users (datos sobre los usuarios):\n",
    "* `user_id` — identificador único del usuario\n",
    "* `first_name` — nombre del usuario\n",
    "* `last_name` — apellido del usuario\n",
    "* `age` — edad del usuario (en años)\n",
    "* `reg_date` — fecha de suscripción (dd, mm, aa)\n",
    "* `churn_date` — fecha en que el usuario dejó de usar el servicio (si el valor es ausente, la tarifa se estaba usando cuando se recuperaron estos datos)\n",
    "* `city` — ciudad de residencia del usuario\n",
    "* `plan` — nombre de la tarifa"
   ]
  },
  {
   "cell_type": "code",
   "execution_count": 3,
   "id": "359261e7",
   "metadata": {
    "ExecuteTime": {
     "end_time": "2023-01-05T13:45:24.393538Z",
     "start_time": "2023-01-05T13:45:24.301128Z"
    },
    "scrolled": false
   },
   "outputs": [
    {
     "name": "stdout",
     "output_type": "stream",
     "text": [
      "tabla calls\n"
     ]
    },
    {
     "data": {
      "text/html": [
       "<div>\n",
       "<style scoped>\n",
       "    .dataframe tbody tr th:only-of-type {\n",
       "        vertical-align: middle;\n",
       "    }\n",
       "\n",
       "    .dataframe tbody tr th {\n",
       "        vertical-align: top;\n",
       "    }\n",
       "\n",
       "    .dataframe thead th {\n",
       "        text-align: right;\n",
       "    }\n",
       "</style>\n",
       "<table border=\"1\" class=\"dataframe\">\n",
       "  <thead>\n",
       "    <tr style=\"text-align: right;\">\n",
       "      <th></th>\n",
       "      <th>id</th>\n",
       "      <th>user_id</th>\n",
       "      <th>call_date</th>\n",
       "      <th>duration</th>\n",
       "    </tr>\n",
       "  </thead>\n",
       "  <tbody>\n",
       "    <tr>\n",
       "      <th>0</th>\n",
       "      <td>1000_93</td>\n",
       "      <td>1000</td>\n",
       "      <td>2018-12-27</td>\n",
       "      <td>8.52</td>\n",
       "    </tr>\n",
       "    <tr>\n",
       "      <th>1</th>\n",
       "      <td>1000_145</td>\n",
       "      <td>1000</td>\n",
       "      <td>2018-12-27</td>\n",
       "      <td>13.66</td>\n",
       "    </tr>\n",
       "    <tr>\n",
       "      <th>2</th>\n",
       "      <td>1000_247</td>\n",
       "      <td>1000</td>\n",
       "      <td>2018-12-27</td>\n",
       "      <td>14.48</td>\n",
       "    </tr>\n",
       "    <tr>\n",
       "      <th>3</th>\n",
       "      <td>1000_309</td>\n",
       "      <td>1000</td>\n",
       "      <td>2018-12-28</td>\n",
       "      <td>5.76</td>\n",
       "    </tr>\n",
       "    <tr>\n",
       "      <th>4</th>\n",
       "      <td>1000_380</td>\n",
       "      <td>1000</td>\n",
       "      <td>2018-12-30</td>\n",
       "      <td>4.22</td>\n",
       "    </tr>\n",
       "  </tbody>\n",
       "</table>\n",
       "</div>"
      ],
      "text/plain": [
       "         id  user_id   call_date  duration\n",
       "0   1000_93     1000  2018-12-27      8.52\n",
       "1  1000_145     1000  2018-12-27     13.66\n",
       "2  1000_247     1000  2018-12-27     14.48\n",
       "3  1000_309     1000  2018-12-28      5.76\n",
       "4  1000_380     1000  2018-12-30      4.22"
      ]
     },
     "metadata": {},
     "output_type": "display_data"
    },
    {
     "name": "stdout",
     "output_type": "stream",
     "text": [
      "<class 'pandas.core.frame.DataFrame'>\n",
      "RangeIndex: 137735 entries, 0 to 137734\n",
      "Data columns (total 4 columns):\n",
      " #   Column     Non-Null Count   Dtype  \n",
      "---  ------     --------------   -----  \n",
      " 0   id         137735 non-null  object \n",
      " 1   user_id    137735 non-null  int64  \n",
      " 2   call_date  137735 non-null  object \n",
      " 3   duration   137735 non-null  float64\n",
      "dtypes: float64(1), int64(1), object(2)\n",
      "memory usage: 4.2+ MB\n",
      "registros duplicados:  0\n"
     ]
    }
   ],
   "source": [
    "print('tabla calls')\n",
    "display(calls.head())\n",
    "calls.info()\n",
    "print('registros duplicados: ', calls.duplicated().sum())"
   ]
  },
  {
   "cell_type": "code",
   "execution_count": 4,
   "id": "451e7786",
   "metadata": {
    "ExecuteTime": {
     "end_time": "2023-01-05T13:45:24.479520Z",
     "start_time": "2023-01-05T13:45:24.395065Z"
    },
    "scrolled": false
   },
   "outputs": [
    {
     "name": "stdout",
     "output_type": "stream",
     "text": [
      "tabla internet\n"
     ]
    },
    {
     "data": {
      "text/html": [
       "<div>\n",
       "<style scoped>\n",
       "    .dataframe tbody tr th:only-of-type {\n",
       "        vertical-align: middle;\n",
       "    }\n",
       "\n",
       "    .dataframe tbody tr th {\n",
       "        vertical-align: top;\n",
       "    }\n",
       "\n",
       "    .dataframe thead th {\n",
       "        text-align: right;\n",
       "    }\n",
       "</style>\n",
       "<table border=\"1\" class=\"dataframe\">\n",
       "  <thead>\n",
       "    <tr style=\"text-align: right;\">\n",
       "      <th></th>\n",
       "      <th>id</th>\n",
       "      <th>user_id</th>\n",
       "      <th>session_date</th>\n",
       "      <th>mb_used</th>\n",
       "    </tr>\n",
       "  </thead>\n",
       "  <tbody>\n",
       "    <tr>\n",
       "      <th>0</th>\n",
       "      <td>1000_13</td>\n",
       "      <td>1000</td>\n",
       "      <td>2018-12-29</td>\n",
       "      <td>89.86</td>\n",
       "    </tr>\n",
       "    <tr>\n",
       "      <th>1</th>\n",
       "      <td>1000_204</td>\n",
       "      <td>1000</td>\n",
       "      <td>2018-12-31</td>\n",
       "      <td>0.00</td>\n",
       "    </tr>\n",
       "    <tr>\n",
       "      <th>2</th>\n",
       "      <td>1000_379</td>\n",
       "      <td>1000</td>\n",
       "      <td>2018-12-28</td>\n",
       "      <td>660.40</td>\n",
       "    </tr>\n",
       "    <tr>\n",
       "      <th>3</th>\n",
       "      <td>1000_413</td>\n",
       "      <td>1000</td>\n",
       "      <td>2018-12-26</td>\n",
       "      <td>270.99</td>\n",
       "    </tr>\n",
       "    <tr>\n",
       "      <th>4</th>\n",
       "      <td>1000_442</td>\n",
       "      <td>1000</td>\n",
       "      <td>2018-12-27</td>\n",
       "      <td>880.22</td>\n",
       "    </tr>\n",
       "  </tbody>\n",
       "</table>\n",
       "</div>"
      ],
      "text/plain": [
       "         id  user_id session_date  mb_used\n",
       "0   1000_13     1000   2018-12-29    89.86\n",
       "1  1000_204     1000   2018-12-31     0.00\n",
       "2  1000_379     1000   2018-12-28   660.40\n",
       "3  1000_413     1000   2018-12-26   270.99\n",
       "4  1000_442     1000   2018-12-27   880.22"
      ]
     },
     "metadata": {},
     "output_type": "display_data"
    },
    {
     "name": "stdout",
     "output_type": "stream",
     "text": [
      "<class 'pandas.core.frame.DataFrame'>\n",
      "RangeIndex: 104825 entries, 0 to 104824\n",
      "Data columns (total 4 columns):\n",
      " #   Column        Non-Null Count   Dtype  \n",
      "---  ------        --------------   -----  \n",
      " 0   id            104825 non-null  object \n",
      " 1   user_id       104825 non-null  int64  \n",
      " 2   session_date  104825 non-null  object \n",
      " 3   mb_used       104825 non-null  float64\n",
      "dtypes: float64(1), int64(1), object(2)\n",
      "memory usage: 3.2+ MB\n",
      "registros duplicados:  0\n"
     ]
    }
   ],
   "source": [
    "print('tabla internet')\n",
    "display(internet.head())\n",
    "internet.info()\n",
    "print('registros duplicados: ', internet.duplicated().sum())"
   ]
  },
  {
   "cell_type": "code",
   "execution_count": 5,
   "id": "5c72c899",
   "metadata": {
    "ExecuteTime": {
     "end_time": "2023-01-05T13:45:24.535339Z",
     "start_time": "2023-01-05T13:45:24.479520Z"
    },
    "scrolled": false
   },
   "outputs": [
    {
     "name": "stdout",
     "output_type": "stream",
     "text": [
      "tabla messages\n"
     ]
    },
    {
     "data": {
      "text/html": [
       "<div>\n",
       "<style scoped>\n",
       "    .dataframe tbody tr th:only-of-type {\n",
       "        vertical-align: middle;\n",
       "    }\n",
       "\n",
       "    .dataframe tbody tr th {\n",
       "        vertical-align: top;\n",
       "    }\n",
       "\n",
       "    .dataframe thead th {\n",
       "        text-align: right;\n",
       "    }\n",
       "</style>\n",
       "<table border=\"1\" class=\"dataframe\">\n",
       "  <thead>\n",
       "    <tr style=\"text-align: right;\">\n",
       "      <th></th>\n",
       "      <th>id</th>\n",
       "      <th>user_id</th>\n",
       "      <th>message_date</th>\n",
       "    </tr>\n",
       "  </thead>\n",
       "  <tbody>\n",
       "    <tr>\n",
       "      <th>0</th>\n",
       "      <td>1000_125</td>\n",
       "      <td>1000</td>\n",
       "      <td>2018-12-27</td>\n",
       "    </tr>\n",
       "    <tr>\n",
       "      <th>1</th>\n",
       "      <td>1000_160</td>\n",
       "      <td>1000</td>\n",
       "      <td>2018-12-31</td>\n",
       "    </tr>\n",
       "    <tr>\n",
       "      <th>2</th>\n",
       "      <td>1000_223</td>\n",
       "      <td>1000</td>\n",
       "      <td>2018-12-31</td>\n",
       "    </tr>\n",
       "    <tr>\n",
       "      <th>3</th>\n",
       "      <td>1000_251</td>\n",
       "      <td>1000</td>\n",
       "      <td>2018-12-27</td>\n",
       "    </tr>\n",
       "    <tr>\n",
       "      <th>4</th>\n",
       "      <td>1000_255</td>\n",
       "      <td>1000</td>\n",
       "      <td>2018-12-26</td>\n",
       "    </tr>\n",
       "  </tbody>\n",
       "</table>\n",
       "</div>"
      ],
      "text/plain": [
       "         id  user_id message_date\n",
       "0  1000_125     1000   2018-12-27\n",
       "1  1000_160     1000   2018-12-31\n",
       "2  1000_223     1000   2018-12-31\n",
       "3  1000_251     1000   2018-12-27\n",
       "4  1000_255     1000   2018-12-26"
      ]
     },
     "metadata": {},
     "output_type": "display_data"
    },
    {
     "name": "stdout",
     "output_type": "stream",
     "text": [
      "<class 'pandas.core.frame.DataFrame'>\n",
      "RangeIndex: 76051 entries, 0 to 76050\n",
      "Data columns (total 3 columns):\n",
      " #   Column        Non-Null Count  Dtype \n",
      "---  ------        --------------  ----- \n",
      " 0   id            76051 non-null  object\n",
      " 1   user_id       76051 non-null  int64 \n",
      " 2   message_date  76051 non-null  object\n",
      "dtypes: int64(1), object(2)\n",
      "memory usage: 1.7+ MB\n",
      "registros duplicados:  0\n"
     ]
    }
   ],
   "source": [
    "print('tabla messages')\n",
    "display(messages.head())\n",
    "messages.info()\n",
    "print('registros duplicados: ', messages.duplicated().sum())"
   ]
  },
  {
   "cell_type": "code",
   "execution_count": 6,
   "id": "19026693",
   "metadata": {
    "ExecuteTime": {
     "end_time": "2023-01-05T13:45:24.570412Z",
     "start_time": "2023-01-05T13:45:24.536361Z"
    },
    "scrolled": false
   },
   "outputs": [
    {
     "name": "stdout",
     "output_type": "stream",
     "text": [
      "tabla plans\n"
     ]
    },
    {
     "data": {
      "text/html": [
       "<div>\n",
       "<style scoped>\n",
       "    .dataframe tbody tr th:only-of-type {\n",
       "        vertical-align: middle;\n",
       "    }\n",
       "\n",
       "    .dataframe tbody tr th {\n",
       "        vertical-align: top;\n",
       "    }\n",
       "\n",
       "    .dataframe thead th {\n",
       "        text-align: right;\n",
       "    }\n",
       "</style>\n",
       "<table border=\"1\" class=\"dataframe\">\n",
       "  <thead>\n",
       "    <tr style=\"text-align: right;\">\n",
       "      <th></th>\n",
       "      <th>messages_included</th>\n",
       "      <th>mb_per_month_included</th>\n",
       "      <th>minutes_included</th>\n",
       "      <th>usd_monthly_pay</th>\n",
       "      <th>usd_per_gb</th>\n",
       "      <th>usd_per_message</th>\n",
       "      <th>usd_per_minute</th>\n",
       "      <th>plan_name</th>\n",
       "    </tr>\n",
       "  </thead>\n",
       "  <tbody>\n",
       "    <tr>\n",
       "      <th>0</th>\n",
       "      <td>50</td>\n",
       "      <td>15360</td>\n",
       "      <td>500</td>\n",
       "      <td>20</td>\n",
       "      <td>10</td>\n",
       "      <td>0.03</td>\n",
       "      <td>0.03</td>\n",
       "      <td>surf</td>\n",
       "    </tr>\n",
       "    <tr>\n",
       "      <th>1</th>\n",
       "      <td>1000</td>\n",
       "      <td>30720</td>\n",
       "      <td>3000</td>\n",
       "      <td>70</td>\n",
       "      <td>7</td>\n",
       "      <td>0.01</td>\n",
       "      <td>0.01</td>\n",
       "      <td>ultimate</td>\n",
       "    </tr>\n",
       "  </tbody>\n",
       "</table>\n",
       "</div>"
      ],
      "text/plain": [
       "   messages_included  mb_per_month_included  minutes_included  \\\n",
       "0                 50                  15360               500   \n",
       "1               1000                  30720              3000   \n",
       "\n",
       "   usd_monthly_pay  usd_per_gb  usd_per_message  usd_per_minute plan_name  \n",
       "0               20          10             0.03            0.03      surf  \n",
       "1               70           7             0.01            0.01  ultimate  "
      ]
     },
     "metadata": {},
     "output_type": "display_data"
    },
    {
     "name": "stdout",
     "output_type": "stream",
     "text": [
      "<class 'pandas.core.frame.DataFrame'>\n",
      "RangeIndex: 2 entries, 0 to 1\n",
      "Data columns (total 8 columns):\n",
      " #   Column                 Non-Null Count  Dtype  \n",
      "---  ------                 --------------  -----  \n",
      " 0   messages_included      2 non-null      int64  \n",
      " 1   mb_per_month_included  2 non-null      int64  \n",
      " 2   minutes_included       2 non-null      int64  \n",
      " 3   usd_monthly_pay        2 non-null      int64  \n",
      " 4   usd_per_gb             2 non-null      int64  \n",
      " 5   usd_per_message        2 non-null      float64\n",
      " 6   usd_per_minute         2 non-null      float64\n",
      " 7   plan_name              2 non-null      object \n",
      "dtypes: float64(2), int64(5), object(1)\n",
      "memory usage: 256.0+ bytes\n",
      "registros duplicados:  0\n"
     ]
    }
   ],
   "source": [
    "print('tabla plans')\n",
    "display(plans.head())\n",
    "plans.info()\n",
    "print('registros duplicados: ', plans.duplicated().sum())"
   ]
  },
  {
   "cell_type": "code",
   "execution_count": 7,
   "id": "18c9511d",
   "metadata": {
    "ExecuteTime": {
     "end_time": "2023-01-05T13:45:24.593955Z",
     "start_time": "2023-01-05T13:45:24.570412Z"
    },
    "scrolled": false
   },
   "outputs": [
    {
     "name": "stdout",
     "output_type": "stream",
     "text": [
      "tabla users\n"
     ]
    },
    {
     "data": {
      "text/html": [
       "<div>\n",
       "<style scoped>\n",
       "    .dataframe tbody tr th:only-of-type {\n",
       "        vertical-align: middle;\n",
       "    }\n",
       "\n",
       "    .dataframe tbody tr th {\n",
       "        vertical-align: top;\n",
       "    }\n",
       "\n",
       "    .dataframe thead th {\n",
       "        text-align: right;\n",
       "    }\n",
       "</style>\n",
       "<table border=\"1\" class=\"dataframe\">\n",
       "  <thead>\n",
       "    <tr style=\"text-align: right;\">\n",
       "      <th></th>\n",
       "      <th>user_id</th>\n",
       "      <th>first_name</th>\n",
       "      <th>last_name</th>\n",
       "      <th>age</th>\n",
       "      <th>city</th>\n",
       "      <th>reg_date</th>\n",
       "      <th>plan</th>\n",
       "      <th>churn_date</th>\n",
       "    </tr>\n",
       "  </thead>\n",
       "  <tbody>\n",
       "    <tr>\n",
       "      <th>0</th>\n",
       "      <td>1000</td>\n",
       "      <td>Anamaria</td>\n",
       "      <td>Bauer</td>\n",
       "      <td>45</td>\n",
       "      <td>Atlanta-Sandy Springs-Roswell, GA MSA</td>\n",
       "      <td>2018-12-24</td>\n",
       "      <td>ultimate</td>\n",
       "      <td>NaN</td>\n",
       "    </tr>\n",
       "    <tr>\n",
       "      <th>1</th>\n",
       "      <td>1001</td>\n",
       "      <td>Mickey</td>\n",
       "      <td>Wilkerson</td>\n",
       "      <td>28</td>\n",
       "      <td>Seattle-Tacoma-Bellevue, WA MSA</td>\n",
       "      <td>2018-08-13</td>\n",
       "      <td>surf</td>\n",
       "      <td>NaN</td>\n",
       "    </tr>\n",
       "    <tr>\n",
       "      <th>2</th>\n",
       "      <td>1002</td>\n",
       "      <td>Carlee</td>\n",
       "      <td>Hoffman</td>\n",
       "      <td>36</td>\n",
       "      <td>Las Vegas-Henderson-Paradise, NV MSA</td>\n",
       "      <td>2018-10-21</td>\n",
       "      <td>surf</td>\n",
       "      <td>NaN</td>\n",
       "    </tr>\n",
       "    <tr>\n",
       "      <th>3</th>\n",
       "      <td>1003</td>\n",
       "      <td>Reynaldo</td>\n",
       "      <td>Jenkins</td>\n",
       "      <td>52</td>\n",
       "      <td>Tulsa, OK MSA</td>\n",
       "      <td>2018-01-28</td>\n",
       "      <td>surf</td>\n",
       "      <td>NaN</td>\n",
       "    </tr>\n",
       "    <tr>\n",
       "      <th>4</th>\n",
       "      <td>1004</td>\n",
       "      <td>Leonila</td>\n",
       "      <td>Thompson</td>\n",
       "      <td>40</td>\n",
       "      <td>Seattle-Tacoma-Bellevue, WA MSA</td>\n",
       "      <td>2018-05-23</td>\n",
       "      <td>surf</td>\n",
       "      <td>NaN</td>\n",
       "    </tr>\n",
       "  </tbody>\n",
       "</table>\n",
       "</div>"
      ],
      "text/plain": [
       "   user_id first_name  last_name  age                                   city  \\\n",
       "0     1000   Anamaria      Bauer   45  Atlanta-Sandy Springs-Roswell, GA MSA   \n",
       "1     1001     Mickey  Wilkerson   28        Seattle-Tacoma-Bellevue, WA MSA   \n",
       "2     1002     Carlee    Hoffman   36   Las Vegas-Henderson-Paradise, NV MSA   \n",
       "3     1003   Reynaldo    Jenkins   52                          Tulsa, OK MSA   \n",
       "4     1004    Leonila   Thompson   40        Seattle-Tacoma-Bellevue, WA MSA   \n",
       "\n",
       "     reg_date      plan churn_date  \n",
       "0  2018-12-24  ultimate        NaN  \n",
       "1  2018-08-13      surf        NaN  \n",
       "2  2018-10-21      surf        NaN  \n",
       "3  2018-01-28      surf        NaN  \n",
       "4  2018-05-23      surf        NaN  "
      ]
     },
     "metadata": {},
     "output_type": "display_data"
    },
    {
     "name": "stdout",
     "output_type": "stream",
     "text": [
      "<class 'pandas.core.frame.DataFrame'>\n",
      "RangeIndex: 500 entries, 0 to 499\n",
      "Data columns (total 8 columns):\n",
      " #   Column      Non-Null Count  Dtype \n",
      "---  ------      --------------  ----- \n",
      " 0   user_id     500 non-null    int64 \n",
      " 1   first_name  500 non-null    object\n",
      " 2   last_name   500 non-null    object\n",
      " 3   age         500 non-null    int64 \n",
      " 4   city        500 non-null    object\n",
      " 5   reg_date    500 non-null    object\n",
      " 6   plan        500 non-null    object\n",
      " 7   churn_date  34 non-null     object\n",
      "dtypes: int64(2), object(6)\n",
      "memory usage: 31.4+ KB\n",
      "registros duplicados:  0\n"
     ]
    }
   ],
   "source": [
    "print('tabla users')\n",
    "display(users.head())\n",
    "users.info()\n",
    "print('registros duplicados: ', plans.duplicated().sum())"
   ]
  },
  {
   "cell_type": "markdown",
   "id": "34bca9be",
   "metadata": {},
   "source": [
    "Se revisaron los datos inicialmente de las 5 tablas, y podemos indicar lo siguiente:\n",
    "\n",
    "\n",
    "Tabla `calls`:\n",
    "  * Hay 137735 registros y 4 columnas.\n",
    "  * En la columna `call_date` el tipo de dato es object, debe cambiarse a tipo datetime.\n",
    "  * No existen valores ausentes ni registros duplicados.\n",
    "\n",
    "Tabla `internet`:\n",
    "  * Hay 104825 registros y 4 columnas.\n",
    "  * En la columna `session_date` el tipo de dato es object, debe cambiarse a tipo datetime.\n",
    "  * No existen valores ausentes ni registros duplicados\n",
    "  \n",
    "Tabla `messages`:\n",
    "  * Hay 76051 registros y 3 columnas.\n",
    "  * En la columna `message_date` el tipo de dato es object, debe cambiarse a tipo datetime.\n",
    "  * No existen valores ausentes ni registros duplicados.\n",
    "\n",
    "Tabla `plans`:\n",
    "  * Hay 2 registros y 8 columnas.\n",
    "  * No existen valores ausentes ni registros duplicados.\n",
    "  \n",
    "Tabla `users`:\n",
    "  * Hay 500 registros y 8 columnas.\n",
    "  * En las columnas `reg_date` y `churn_date` el tipo de dato es object, debe cambiarse a tipo datetime.\n",
    "  * La columna `churn_date` tiene 466 valores ausentes, lo que representa el 93% de los usuarios. El valor ausente representa que la tarifa se estaba usando cuando se generaron estos datos.\n",
    "\n",
    "  * No existen registros duplicados."
   ]
  },
  {
   "cell_type": "markdown",
   "id": "4de492e9",
   "metadata": {},
   "source": [
    "# Preparación de datos<a id='pre'></a>"
   ]
  },
  {
   "cell_type": "markdown",
   "id": "4fb7c6f2",
   "metadata": {},
   "source": [
    "* Convierte los datos en los tipos necesarios\n",
    "* Encuentra y elimina errores en los datos.\n",
    "* Explica qué errores encontraste y cómo los eliminaste. Nota: muchas llamadas tienen duración de 0.0 minutos. Estas pueden ser llamadas perdidas. Tú decides si quieres preprocesar o no estos valores; evalúa cuánto afectaría su ausencia a los resultados de tu análisis."
   ]
  },
  {
   "cell_type": "markdown",
   "id": "4e88a1ed",
   "metadata": {},
   "source": [
    "Vamos a preparar los datos, empezemos realizando el cambio de tipo de datos necesario:"
   ]
  },
  {
   "cell_type": "code",
   "execution_count": 8,
   "id": "f735b7b3",
   "metadata": {
    "ExecuteTime": {
     "end_time": "2023-01-05T13:45:24.645672Z",
     "start_time": "2023-01-05T13:45:24.595416Z"
    }
   },
   "outputs": [],
   "source": [
    "# cambiar a tipo fecha todas las fechas de todas las tablas\n",
    "calls['call_date']       = pd.to_datetime(calls['call_date'], format='%Y-%m-%d')\n",
    "internet['session_date'] = pd.to_datetime(internet['session_date'], format='%Y-%m-%d')\n",
    "messages['message_date'] = pd.to_datetime(messages['message_date'], format='%Y-%m-%d')\n",
    "users['reg_date']        = pd.to_datetime(users['reg_date'], format='%Y-%m-%d')\n",
    "users['churn_date']      = pd.to_datetime(users['churn_date'], format='%Y-%m-%d')"
   ]
  },
  {
   "cell_type": "code",
   "execution_count": 9,
   "id": "84a959e5",
   "metadata": {
    "ExecuteTime": {
     "end_time": "2023-01-05T13:45:24.670381Z",
     "start_time": "2023-01-05T13:45:24.645672Z"
    }
   },
   "outputs": [
    {
     "name": "stdout",
     "output_type": "stream",
     "text": [
      "datetime64[ns]\n",
      "datetime64[ns]\n",
      "datetime64[ns]\n",
      "datetime64[ns]\n",
      "datetime64[ns]\n"
     ]
    }
   ],
   "source": [
    "# revisar tipos de datos cambiados\n",
    "\n",
    "print(calls.call_date.dtype)\n",
    "print(internet.session_date.dtype)\n",
    "print(messages.message_date.dtype)\n",
    "print(users.reg_date.dtype)\n",
    "print(users.churn_date.dtype)"
   ]
  },
  {
   "cell_type": "markdown",
   "id": "2674270c",
   "metadata": {},
   "source": [
    "Cada llamada individual se redondea, incluso si la llamada duró solo un segundo, se contará como un minuto."
   ]
  },
  {
   "cell_type": "code",
   "execution_count": 10,
   "id": "df609354",
   "metadata": {
    "ExecuteTime": {
     "end_time": "2023-01-05T13:45:24.685590Z",
     "start_time": "2023-01-05T13:45:24.675387Z"
    }
   },
   "outputs": [
    {
     "data": {
      "text/plain": [
       "0          9.0\n",
       "1         14.0\n",
       "2         15.0\n",
       "3          6.0\n",
       "4          5.0\n",
       "          ... \n",
       "137730     9.0\n",
       "137731    11.0\n",
       "137732     9.0\n",
       "137733     1.0\n",
       "137734    14.0\n",
       "Name: duration, Length: 137735, dtype: float64"
      ]
     },
     "execution_count": 10,
     "metadata": {},
     "output_type": "execute_result"
    }
   ],
   "source": [
    "# redondeo de segundos a minutos en duration de calls\n",
    "calls['duration'] = np.ceil(calls['duration'])\n",
    "calls['duration']"
   ]
  },
  {
   "cell_type": "code",
   "execution_count": 11,
   "id": "93112d3a",
   "metadata": {
    "ExecuteTime": {
     "end_time": "2023-01-05T13:45:24.711836Z",
     "start_time": "2023-01-05T13:45:24.686610Z"
    }
   },
   "outputs": [
    {
     "name": "stdout",
     "output_type": "stream",
     "text": [
      "llamadas con 0 segundos:  26834\n"
     ]
    },
    {
     "data": {
      "text/plain": [
       "0.0    0.19\n",
       "6.0    0.06\n",
       "5.0    0.06\n",
       "7.0    0.06\n",
       "8.0    0.06\n",
       "Name: duration, dtype: float64"
      ]
     },
     "execution_count": 11,
     "metadata": {},
     "output_type": "execute_result"
    }
   ],
   "source": [
    "# revisar duracion de llamadas en 0 segundos\n",
    "print('llamadas con 0 segundos: ', len(calls.query('duration == 0')))\n",
    "\n",
    "round(calls.duration.value_counts(normalize=True), ndigits=2).head()"
   ]
  },
  {
   "cell_type": "markdown",
   "id": "3e65494d",
   "metadata": {},
   "source": [
    "26834 de llamadas tienen duración 0, es decir el 19% de los registros. Las llamadas con duración 0 segundos son llamadas perdidas (no efectuadas) por los usuarios.  En este análisis necesitamos saber el tiempo mensual de llamadas, por lo que una llamada con 0 segundos no va a sumar al mensual. Dicho esto, decidimos eliminar todos los registros con duracion 0, ya que no representa información valiosa para nuestro análisis."
   ]
  },
  {
   "cell_type": "code",
   "execution_count": 12,
   "id": "f73d1be8",
   "metadata": {
    "ExecuteTime": {
     "end_time": "2023-01-05T13:45:24.728429Z",
     "start_time": "2023-01-05T13:45:24.711836Z"
    }
   },
   "outputs": [
    {
     "data": {
      "text/html": [
       "<div>\n",
       "<style scoped>\n",
       "    .dataframe tbody tr th:only-of-type {\n",
       "        vertical-align: middle;\n",
       "    }\n",
       "\n",
       "    .dataframe tbody tr th {\n",
       "        vertical-align: top;\n",
       "    }\n",
       "\n",
       "    .dataframe thead th {\n",
       "        text-align: right;\n",
       "    }\n",
       "</style>\n",
       "<table border=\"1\" class=\"dataframe\">\n",
       "  <thead>\n",
       "    <tr style=\"text-align: right;\">\n",
       "      <th></th>\n",
       "      <th>id</th>\n",
       "      <th>user_id</th>\n",
       "      <th>call_date</th>\n",
       "      <th>duration</th>\n",
       "    </tr>\n",
       "  </thead>\n",
       "  <tbody>\n",
       "    <tr>\n",
       "      <th>0</th>\n",
       "      <td>1000_93</td>\n",
       "      <td>1000</td>\n",
       "      <td>2018-12-27</td>\n",
       "      <td>9.0</td>\n",
       "    </tr>\n",
       "    <tr>\n",
       "      <th>1</th>\n",
       "      <td>1000_145</td>\n",
       "      <td>1000</td>\n",
       "      <td>2018-12-27</td>\n",
       "      <td>14.0</td>\n",
       "    </tr>\n",
       "    <tr>\n",
       "      <th>2</th>\n",
       "      <td>1000_247</td>\n",
       "      <td>1000</td>\n",
       "      <td>2018-12-27</td>\n",
       "      <td>15.0</td>\n",
       "    </tr>\n",
       "    <tr>\n",
       "      <th>3</th>\n",
       "      <td>1000_309</td>\n",
       "      <td>1000</td>\n",
       "      <td>2018-12-28</td>\n",
       "      <td>6.0</td>\n",
       "    </tr>\n",
       "    <tr>\n",
       "      <th>4</th>\n",
       "      <td>1000_380</td>\n",
       "      <td>1000</td>\n",
       "      <td>2018-12-30</td>\n",
       "      <td>5.0</td>\n",
       "    </tr>\n",
       "    <tr>\n",
       "      <th>...</th>\n",
       "      <td>...</td>\n",
       "      <td>...</td>\n",
       "      <td>...</td>\n",
       "      <td>...</td>\n",
       "    </tr>\n",
       "    <tr>\n",
       "      <th>137730</th>\n",
       "      <td>1499_199</td>\n",
       "      <td>1499</td>\n",
       "      <td>2018-11-21</td>\n",
       "      <td>9.0</td>\n",
       "    </tr>\n",
       "    <tr>\n",
       "      <th>137731</th>\n",
       "      <td>1499_200</td>\n",
       "      <td>1499</td>\n",
       "      <td>2018-10-20</td>\n",
       "      <td>11.0</td>\n",
       "    </tr>\n",
       "    <tr>\n",
       "      <th>137732</th>\n",
       "      <td>1499_201</td>\n",
       "      <td>1499</td>\n",
       "      <td>2018-09-21</td>\n",
       "      <td>9.0</td>\n",
       "    </tr>\n",
       "    <tr>\n",
       "      <th>137733</th>\n",
       "      <td>1499_202</td>\n",
       "      <td>1499</td>\n",
       "      <td>2018-10-10</td>\n",
       "      <td>1.0</td>\n",
       "    </tr>\n",
       "    <tr>\n",
       "      <th>137734</th>\n",
       "      <td>1499_203</td>\n",
       "      <td>1499</td>\n",
       "      <td>2018-12-29</td>\n",
       "      <td>14.0</td>\n",
       "    </tr>\n",
       "  </tbody>\n",
       "</table>\n",
       "<p>137735 rows × 4 columns</p>\n",
       "</div>"
      ],
      "text/plain": [
       "              id  user_id  call_date  duration\n",
       "0        1000_93     1000 2018-12-27       9.0\n",
       "1       1000_145     1000 2018-12-27      14.0\n",
       "2       1000_247     1000 2018-12-27      15.0\n",
       "3       1000_309     1000 2018-12-28       6.0\n",
       "4       1000_380     1000 2018-12-30       5.0\n",
       "...          ...      ...        ...       ...\n",
       "137730  1499_199     1499 2018-11-21       9.0\n",
       "137731  1499_200     1499 2018-10-20      11.0\n",
       "137732  1499_201     1499 2018-09-21       9.0\n",
       "137733  1499_202     1499 2018-10-10       1.0\n",
       "137734  1499_203     1499 2018-12-29      14.0\n",
       "\n",
       "[137735 rows x 4 columns]"
      ]
     },
     "execution_count": 12,
     "metadata": {},
     "output_type": "execute_result"
    }
   ],
   "source": [
    "calls"
   ]
  },
  {
   "cell_type": "markdown",
   "id": "4646b6bb",
   "metadata": {},
   "source": [
    "La tabla `calls` quedó con un total de 110901 registros eliminando las llamadas de 0 segundos, es decir se eliminaron 26834 registros."
   ]
  },
  {
   "cell_type": "code",
   "execution_count": 13,
   "id": "c774a4f3",
   "metadata": {
    "ExecuteTime": {
     "end_time": "2023-01-05T13:45:24.744586Z",
     "start_time": "2023-01-05T13:45:24.728429Z"
    },
    "scrolled": false
   },
   "outputs": [
    {
     "data": {
      "text/plain": [
       "user_id         0\n",
       "first_name      0\n",
       "last_name       0\n",
       "age             0\n",
       "city            0\n",
       "reg_date        0\n",
       "plan            0\n",
       "churn_date    466\n",
       "dtype: int64"
      ]
     },
     "execution_count": 13,
     "metadata": {},
     "output_type": "execute_result"
    }
   ],
   "source": [
    "# revisamos valores ausentes en users\n",
    "users.isna().sum()"
   ]
  },
  {
   "cell_type": "markdown",
   "id": "5c4e6278",
   "metadata": {
    "ExecuteTime": {
     "end_time": "2022-12-27T21:56:34.096883Z",
     "start_time": "2022-12-27T21:56:34.082143Z"
    }
   },
   "source": [
    "Hay 466 valores ausentes en la columna churn_date, esta columna registra la fecha que el usuario dejó de usar el servicio, al estar vacio este valor nos indica que el usuario sigue usando el servicio al término del año 2018. Dicho esto, se decide imputar los datos con la fecha 1 enero del 2019."
   ]
  },
  {
   "cell_type": "code",
   "execution_count": 14,
   "id": "cd947182",
   "metadata": {
    "ExecuteTime": {
     "end_time": "2023-01-05T13:45:24.777301Z",
     "start_time": "2023-01-05T13:45:24.745265Z"
    }
   },
   "outputs": [
    {
     "data": {
      "text/html": [
       "<div>\n",
       "<style scoped>\n",
       "    .dataframe tbody tr th:only-of-type {\n",
       "        vertical-align: middle;\n",
       "    }\n",
       "\n",
       "    .dataframe tbody tr th {\n",
       "        vertical-align: top;\n",
       "    }\n",
       "\n",
       "    .dataframe thead th {\n",
       "        text-align: right;\n",
       "    }\n",
       "</style>\n",
       "<table border=\"1\" class=\"dataframe\">\n",
       "  <thead>\n",
       "    <tr style=\"text-align: right;\">\n",
       "      <th></th>\n",
       "      <th>user_id</th>\n",
       "      <th>first_name</th>\n",
       "      <th>last_name</th>\n",
       "      <th>age</th>\n",
       "      <th>city</th>\n",
       "      <th>reg_date</th>\n",
       "      <th>plan</th>\n",
       "      <th>churn_date</th>\n",
       "    </tr>\n",
       "  </thead>\n",
       "  <tbody>\n",
       "    <tr>\n",
       "      <th>0</th>\n",
       "      <td>1000</td>\n",
       "      <td>Anamaria</td>\n",
       "      <td>Bauer</td>\n",
       "      <td>45</td>\n",
       "      <td>Atlanta-Sandy Springs-Roswell, GA MSA</td>\n",
       "      <td>2018-12-24</td>\n",
       "      <td>ultimate</td>\n",
       "      <td>NaT</td>\n",
       "    </tr>\n",
       "    <tr>\n",
       "      <th>1</th>\n",
       "      <td>1001</td>\n",
       "      <td>Mickey</td>\n",
       "      <td>Wilkerson</td>\n",
       "      <td>28</td>\n",
       "      <td>Seattle-Tacoma-Bellevue, WA MSA</td>\n",
       "      <td>2018-08-13</td>\n",
       "      <td>surf</td>\n",
       "      <td>NaT</td>\n",
       "    </tr>\n",
       "    <tr>\n",
       "      <th>2</th>\n",
       "      <td>1002</td>\n",
       "      <td>Carlee</td>\n",
       "      <td>Hoffman</td>\n",
       "      <td>36</td>\n",
       "      <td>Las Vegas-Henderson-Paradise, NV MSA</td>\n",
       "      <td>2018-10-21</td>\n",
       "      <td>surf</td>\n",
       "      <td>NaT</td>\n",
       "    </tr>\n",
       "    <tr>\n",
       "      <th>3</th>\n",
       "      <td>1003</td>\n",
       "      <td>Reynaldo</td>\n",
       "      <td>Jenkins</td>\n",
       "      <td>52</td>\n",
       "      <td>Tulsa, OK MSA</td>\n",
       "      <td>2018-01-28</td>\n",
       "      <td>surf</td>\n",
       "      <td>NaT</td>\n",
       "    </tr>\n",
       "    <tr>\n",
       "      <th>4</th>\n",
       "      <td>1004</td>\n",
       "      <td>Leonila</td>\n",
       "      <td>Thompson</td>\n",
       "      <td>40</td>\n",
       "      <td>Seattle-Tacoma-Bellevue, WA MSA</td>\n",
       "      <td>2018-05-23</td>\n",
       "      <td>surf</td>\n",
       "      <td>NaT</td>\n",
       "    </tr>\n",
       "    <tr>\n",
       "      <th>...</th>\n",
       "      <td>...</td>\n",
       "      <td>...</td>\n",
       "      <td>...</td>\n",
       "      <td>...</td>\n",
       "      <td>...</td>\n",
       "      <td>...</td>\n",
       "      <td>...</td>\n",
       "      <td>...</td>\n",
       "    </tr>\n",
       "    <tr>\n",
       "      <th>495</th>\n",
       "      <td>1495</td>\n",
       "      <td>Fidel</td>\n",
       "      <td>Sharpe</td>\n",
       "      <td>67</td>\n",
       "      <td>New York-Newark-Jersey City, NY-NJ-PA MSA</td>\n",
       "      <td>2018-09-04</td>\n",
       "      <td>surf</td>\n",
       "      <td>NaT</td>\n",
       "    </tr>\n",
       "    <tr>\n",
       "      <th>496</th>\n",
       "      <td>1496</td>\n",
       "      <td>Ariel</td>\n",
       "      <td>Shepherd</td>\n",
       "      <td>49</td>\n",
       "      <td>New Orleans-Metairie, LA MSA</td>\n",
       "      <td>2018-02-20</td>\n",
       "      <td>surf</td>\n",
       "      <td>NaT</td>\n",
       "    </tr>\n",
       "    <tr>\n",
       "      <th>497</th>\n",
       "      <td>1497</td>\n",
       "      <td>Donte</td>\n",
       "      <td>Barrera</td>\n",
       "      <td>49</td>\n",
       "      <td>Los Angeles-Long Beach-Anaheim, CA MSA</td>\n",
       "      <td>2018-12-10</td>\n",
       "      <td>ultimate</td>\n",
       "      <td>NaT</td>\n",
       "    </tr>\n",
       "    <tr>\n",
       "      <th>498</th>\n",
       "      <td>1498</td>\n",
       "      <td>Scot</td>\n",
       "      <td>Williamson</td>\n",
       "      <td>51</td>\n",
       "      <td>New York-Newark-Jersey City, NY-NJ-PA MSA</td>\n",
       "      <td>2018-02-04</td>\n",
       "      <td>surf</td>\n",
       "      <td>NaT</td>\n",
       "    </tr>\n",
       "    <tr>\n",
       "      <th>499</th>\n",
       "      <td>1499</td>\n",
       "      <td>Shena</td>\n",
       "      <td>Dickson</td>\n",
       "      <td>37</td>\n",
       "      <td>Orlando-Kissimmee-Sanford, FL MSA</td>\n",
       "      <td>2018-05-06</td>\n",
       "      <td>surf</td>\n",
       "      <td>NaT</td>\n",
       "    </tr>\n",
       "  </tbody>\n",
       "</table>\n",
       "<p>466 rows × 8 columns</p>\n",
       "</div>"
      ],
      "text/plain": [
       "     user_id first_name   last_name  age  \\\n",
       "0       1000   Anamaria       Bauer   45   \n",
       "1       1001     Mickey   Wilkerson   28   \n",
       "2       1002     Carlee     Hoffman   36   \n",
       "3       1003   Reynaldo     Jenkins   52   \n",
       "4       1004    Leonila    Thompson   40   \n",
       "..       ...        ...         ...  ...   \n",
       "495     1495      Fidel      Sharpe   67   \n",
       "496     1496      Ariel    Shepherd   49   \n",
       "497     1497      Donte     Barrera   49   \n",
       "498     1498       Scot  Williamson   51   \n",
       "499     1499      Shena     Dickson   37   \n",
       "\n",
       "                                          city   reg_date      plan churn_date  \n",
       "0        Atlanta-Sandy Springs-Roswell, GA MSA 2018-12-24  ultimate        NaT  \n",
       "1              Seattle-Tacoma-Bellevue, WA MSA 2018-08-13      surf        NaT  \n",
       "2         Las Vegas-Henderson-Paradise, NV MSA 2018-10-21      surf        NaT  \n",
       "3                                Tulsa, OK MSA 2018-01-28      surf        NaT  \n",
       "4              Seattle-Tacoma-Bellevue, WA MSA 2018-05-23      surf        NaT  \n",
       "..                                         ...        ...       ...        ...  \n",
       "495  New York-Newark-Jersey City, NY-NJ-PA MSA 2018-09-04      surf        NaT  \n",
       "496               New Orleans-Metairie, LA MSA 2018-02-20      surf        NaT  \n",
       "497     Los Angeles-Long Beach-Anaheim, CA MSA 2018-12-10  ultimate        NaT  \n",
       "498  New York-Newark-Jersey City, NY-NJ-PA MSA 2018-02-04      surf        NaT  \n",
       "499          Orlando-Kissimmee-Sanford, FL MSA 2018-05-06      surf        NaT  \n",
       "\n",
       "[466 rows x 8 columns]"
      ]
     },
     "execution_count": 14,
     "metadata": {},
     "output_type": "execute_result"
    }
   ],
   "source": [
    "users.query('churn_date.isna()')"
   ]
  },
  {
   "cell_type": "code",
   "execution_count": 15,
   "id": "81e6f018",
   "metadata": {
    "ExecuteTime": {
     "end_time": "2023-01-05T13:45:24.795587Z",
     "start_time": "2023-01-05T13:45:24.777301Z"
    }
   },
   "outputs": [
    {
     "data": {
      "text/html": [
       "<div>\n",
       "<style scoped>\n",
       "    .dataframe tbody tr th:only-of-type {\n",
       "        vertical-align: middle;\n",
       "    }\n",
       "\n",
       "    .dataframe tbody tr th {\n",
       "        vertical-align: top;\n",
       "    }\n",
       "\n",
       "    .dataframe thead th {\n",
       "        text-align: right;\n",
       "    }\n",
       "</style>\n",
       "<table border=\"1\" class=\"dataframe\">\n",
       "  <thead>\n",
       "    <tr style=\"text-align: right;\">\n",
       "      <th></th>\n",
       "      <th>user_id</th>\n",
       "      <th>first_name</th>\n",
       "      <th>last_name</th>\n",
       "      <th>age</th>\n",
       "      <th>city</th>\n",
       "      <th>reg_date</th>\n",
       "      <th>plan</th>\n",
       "      <th>churn_date</th>\n",
       "    </tr>\n",
       "  </thead>\n",
       "  <tbody>\n",
       "    <tr>\n",
       "      <th>0</th>\n",
       "      <td>1000</td>\n",
       "      <td>Anamaria</td>\n",
       "      <td>Bauer</td>\n",
       "      <td>45</td>\n",
       "      <td>Atlanta-Sandy Springs-Roswell, GA MSA</td>\n",
       "      <td>2018-12-24</td>\n",
       "      <td>ultimate</td>\n",
       "      <td>2019-01-01</td>\n",
       "    </tr>\n",
       "    <tr>\n",
       "      <th>1</th>\n",
       "      <td>1001</td>\n",
       "      <td>Mickey</td>\n",
       "      <td>Wilkerson</td>\n",
       "      <td>28</td>\n",
       "      <td>Seattle-Tacoma-Bellevue, WA MSA</td>\n",
       "      <td>2018-08-13</td>\n",
       "      <td>surf</td>\n",
       "      <td>2019-01-01</td>\n",
       "    </tr>\n",
       "    <tr>\n",
       "      <th>2</th>\n",
       "      <td>1002</td>\n",
       "      <td>Carlee</td>\n",
       "      <td>Hoffman</td>\n",
       "      <td>36</td>\n",
       "      <td>Las Vegas-Henderson-Paradise, NV MSA</td>\n",
       "      <td>2018-10-21</td>\n",
       "      <td>surf</td>\n",
       "      <td>2019-01-01</td>\n",
       "    </tr>\n",
       "    <tr>\n",
       "      <th>3</th>\n",
       "      <td>1003</td>\n",
       "      <td>Reynaldo</td>\n",
       "      <td>Jenkins</td>\n",
       "      <td>52</td>\n",
       "      <td>Tulsa, OK MSA</td>\n",
       "      <td>2018-01-28</td>\n",
       "      <td>surf</td>\n",
       "      <td>2019-01-01</td>\n",
       "    </tr>\n",
       "    <tr>\n",
       "      <th>4</th>\n",
       "      <td>1004</td>\n",
       "      <td>Leonila</td>\n",
       "      <td>Thompson</td>\n",
       "      <td>40</td>\n",
       "      <td>Seattle-Tacoma-Bellevue, WA MSA</td>\n",
       "      <td>2018-05-23</td>\n",
       "      <td>surf</td>\n",
       "      <td>2019-01-01</td>\n",
       "    </tr>\n",
       "  </tbody>\n",
       "</table>\n",
       "</div>"
      ],
      "text/plain": [
       "   user_id first_name  last_name  age                                   city  \\\n",
       "0     1000   Anamaria      Bauer   45  Atlanta-Sandy Springs-Roswell, GA MSA   \n",
       "1     1001     Mickey  Wilkerson   28        Seattle-Tacoma-Bellevue, WA MSA   \n",
       "2     1002     Carlee    Hoffman   36   Las Vegas-Henderson-Paradise, NV MSA   \n",
       "3     1003   Reynaldo    Jenkins   52                          Tulsa, OK MSA   \n",
       "4     1004    Leonila   Thompson   40        Seattle-Tacoma-Bellevue, WA MSA   \n",
       "\n",
       "    reg_date      plan churn_date  \n",
       "0 2018-12-24  ultimate 2019-01-01  \n",
       "1 2018-08-13      surf 2019-01-01  \n",
       "2 2018-10-21      surf 2019-01-01  \n",
       "3 2018-01-28      surf 2019-01-01  \n",
       "4 2018-05-23      surf 2019-01-01  "
      ]
     },
     "execution_count": 15,
     "metadata": {},
     "output_type": "execute_result"
    }
   ],
   "source": [
    "# imputamos valores ausentes en churn_date\n",
    "users['churn_date'] = users['churn_date'].fillna('2019-01-01')\n",
    "users.head()"
   ]
  },
  {
   "cell_type": "code",
   "execution_count": 16,
   "id": "60d3db4a",
   "metadata": {
    "ExecuteTime": {
     "end_time": "2023-01-05T13:45:24.812050Z",
     "start_time": "2023-01-05T13:45:24.795587Z"
    }
   },
   "outputs": [
    {
     "name": "stdout",
     "output_type": "stream",
     "text": [
      "datetime64[ns]\n"
     ]
    }
   ],
   "source": [
    "# tipos de datos cambiados\n",
    "\n",
    "users['churn_date'] = pd.to_datetime(users['churn_date'], format='%Y-%m-%d')\n",
    "print(users.churn_date.dtype)"
   ]
  },
  {
   "cell_type": "code",
   "execution_count": 17,
   "id": "88d60b16",
   "metadata": {
    "ExecuteTime": {
     "end_time": "2023-01-05T13:45:24.825192Z",
     "start_time": "2023-01-05T13:45:24.812050Z"
    }
   },
   "outputs": [
    {
     "data": {
      "text/plain": [
       "0"
      ]
     },
     "execution_count": 17,
     "metadata": {},
     "output_type": "execute_result"
    }
   ],
   "source": [
    "# comprobamos que se reemplazaron los valores ausentes\n",
    "users.churn_date.isna().sum()"
   ]
  },
  {
   "cell_type": "markdown",
   "id": "3b0f517a",
   "metadata": {},
   "source": [
    "Como observamos fueron reemplazados los valores ausentes de churn_date con fecha 2019-01-01."
   ]
  },
  {
   "cell_type": "code",
   "execution_count": 18,
   "id": "fc964c74",
   "metadata": {
    "ExecuteTime": {
     "end_time": "2023-01-05T13:45:24.836271Z",
     "start_time": "2023-01-05T13:45:24.825192Z"
    }
   },
   "outputs": [
    {
     "data": {
      "text/html": [
       "<div>\n",
       "<style scoped>\n",
       "    .dataframe tbody tr th:only-of-type {\n",
       "        vertical-align: middle;\n",
       "    }\n",
       "\n",
       "    .dataframe tbody tr th {\n",
       "        vertical-align: top;\n",
       "    }\n",
       "\n",
       "    .dataframe thead th {\n",
       "        text-align: right;\n",
       "    }\n",
       "</style>\n",
       "<table border=\"1\" class=\"dataframe\">\n",
       "  <thead>\n",
       "    <tr style=\"text-align: right;\">\n",
       "      <th></th>\n",
       "      <th>id</th>\n",
       "      <th>user_id</th>\n",
       "      <th>session_date</th>\n",
       "      <th>mb_used</th>\n",
       "    </tr>\n",
       "  </thead>\n",
       "  <tbody>\n",
       "    <tr>\n",
       "      <th>0</th>\n",
       "      <td>1000_13</td>\n",
       "      <td>1000</td>\n",
       "      <td>2018-12-29</td>\n",
       "      <td>89.86</td>\n",
       "    </tr>\n",
       "    <tr>\n",
       "      <th>1</th>\n",
       "      <td>1000_204</td>\n",
       "      <td>1000</td>\n",
       "      <td>2018-12-31</td>\n",
       "      <td>0.00</td>\n",
       "    </tr>\n",
       "    <tr>\n",
       "      <th>2</th>\n",
       "      <td>1000_379</td>\n",
       "      <td>1000</td>\n",
       "      <td>2018-12-28</td>\n",
       "      <td>660.40</td>\n",
       "    </tr>\n",
       "    <tr>\n",
       "      <th>3</th>\n",
       "      <td>1000_413</td>\n",
       "      <td>1000</td>\n",
       "      <td>2018-12-26</td>\n",
       "      <td>270.99</td>\n",
       "    </tr>\n",
       "    <tr>\n",
       "      <th>4</th>\n",
       "      <td>1000_442</td>\n",
       "      <td>1000</td>\n",
       "      <td>2018-12-27</td>\n",
       "      <td>880.22</td>\n",
       "    </tr>\n",
       "  </tbody>\n",
       "</table>\n",
       "</div>"
      ],
      "text/plain": [
       "         id  user_id session_date  mb_used\n",
       "0   1000_13     1000   2018-12-29    89.86\n",
       "1  1000_204     1000   2018-12-31     0.00\n",
       "2  1000_379     1000   2018-12-28   660.40\n",
       "3  1000_413     1000   2018-12-26   270.99\n",
       "4  1000_442     1000   2018-12-27   880.22"
      ]
     },
     "execution_count": 18,
     "metadata": {},
     "output_type": "execute_result"
    }
   ],
   "source": [
    "# revisamos tabla internet\n",
    "internet.head()"
   ]
  },
  {
   "cell_type": "code",
   "execution_count": 19,
   "id": "7e893dfb",
   "metadata": {
    "ExecuteTime": {
     "end_time": "2023-01-05T13:45:24.853051Z",
     "start_time": "2023-01-05T13:45:24.836271Z"
    }
   },
   "outputs": [
    {
     "name": "stdout",
     "output_type": "stream",
     "text": [
      "0mb:  13747\n"
     ]
    }
   ],
   "source": [
    "print('0mb: ', len(internet.query('mb_used == 0.00')))"
   ]
  },
  {
   "cell_type": "code",
   "execution_count": 20,
   "id": "d2aa3669",
   "metadata": {
    "ExecuteTime": {
     "end_time": "2023-01-05T13:45:24.886086Z",
     "start_time": "2023-01-05T13:45:24.855135Z"
    }
   },
   "outputs": [
    {
     "data": {
      "text/plain": [
       "0.00      0.131142\n",
       "435.77    0.000076\n",
       "414.46    0.000076\n",
       "423.06    0.000067\n",
       "417.46    0.000067\n",
       "Name: mb_used, dtype: float64"
      ]
     },
     "execution_count": 20,
     "metadata": {},
     "output_type": "execute_result"
    }
   ],
   "source": [
    "internet.mb_used.value_counts(normalize=True).head()"
   ]
  },
  {
   "cell_type": "markdown",
   "id": "b39d1d90",
   "metadata": {},
   "source": [
    "En la tabla `internet` observamos que 13747 registros (el 13% de los datos) tienen una sesion de datos de 0 mb, estos registros pueden eliminarse ya que considero tampoco contiene información valiosa para este análisis."
   ]
  },
  {
   "cell_type": "code",
   "execution_count": 21,
   "id": "80b2427f",
   "metadata": {
    "ExecuteTime": {
     "end_time": "2023-01-05T13:45:24.905163Z",
     "start_time": "2023-01-05T13:45:24.886086Z"
    }
   },
   "outputs": [],
   "source": [
    "# eliminamos registros de 0 mb\n",
    "indexes_drop_2 = internet.query('mb_used == 0.00').index\n",
    "internet = internet.drop(indexes_drop_2, axis=0).reset_index()"
   ]
  },
  {
   "cell_type": "code",
   "execution_count": 22,
   "id": "e34ee7b0",
   "metadata": {
    "ExecuteTime": {
     "end_time": "2023-01-05T13:45:24.925272Z",
     "start_time": "2023-01-05T13:45:24.905163Z"
    }
   },
   "outputs": [
    {
     "data": {
      "text/html": [
       "<div>\n",
       "<style scoped>\n",
       "    .dataframe tbody tr th:only-of-type {\n",
       "        vertical-align: middle;\n",
       "    }\n",
       "\n",
       "    .dataframe tbody tr th {\n",
       "        vertical-align: top;\n",
       "    }\n",
       "\n",
       "    .dataframe thead th {\n",
       "        text-align: right;\n",
       "    }\n",
       "</style>\n",
       "<table border=\"1\" class=\"dataframe\">\n",
       "  <thead>\n",
       "    <tr style=\"text-align: right;\">\n",
       "      <th></th>\n",
       "      <th>index</th>\n",
       "      <th>id</th>\n",
       "      <th>user_id</th>\n",
       "      <th>session_date</th>\n",
       "      <th>mb_used</th>\n",
       "    </tr>\n",
       "  </thead>\n",
       "  <tbody>\n",
       "    <tr>\n",
       "      <th>0</th>\n",
       "      <td>0</td>\n",
       "      <td>1000_13</td>\n",
       "      <td>1000</td>\n",
       "      <td>2018-12-29</td>\n",
       "      <td>89.86</td>\n",
       "    </tr>\n",
       "    <tr>\n",
       "      <th>1</th>\n",
       "      <td>2</td>\n",
       "      <td>1000_379</td>\n",
       "      <td>1000</td>\n",
       "      <td>2018-12-28</td>\n",
       "      <td>660.40</td>\n",
       "    </tr>\n",
       "    <tr>\n",
       "      <th>2</th>\n",
       "      <td>3</td>\n",
       "      <td>1000_413</td>\n",
       "      <td>1000</td>\n",
       "      <td>2018-12-26</td>\n",
       "      <td>270.99</td>\n",
       "    </tr>\n",
       "    <tr>\n",
       "      <th>3</th>\n",
       "      <td>4</td>\n",
       "      <td>1000_442</td>\n",
       "      <td>1000</td>\n",
       "      <td>2018-12-27</td>\n",
       "      <td>880.22</td>\n",
       "    </tr>\n",
       "    <tr>\n",
       "      <th>4</th>\n",
       "      <td>5</td>\n",
       "      <td>1001_0</td>\n",
       "      <td>1001</td>\n",
       "      <td>2018-08-24</td>\n",
       "      <td>284.68</td>\n",
       "    </tr>\n",
       "    <tr>\n",
       "      <th>...</th>\n",
       "      <td>...</td>\n",
       "      <td>...</td>\n",
       "      <td>...</td>\n",
       "      <td>...</td>\n",
       "      <td>...</td>\n",
       "    </tr>\n",
       "    <tr>\n",
       "      <th>91073</th>\n",
       "      <td>104819</td>\n",
       "      <td>1499_214</td>\n",
       "      <td>1499</td>\n",
       "      <td>2018-10-18</td>\n",
       "      <td>261.13</td>\n",
       "    </tr>\n",
       "    <tr>\n",
       "      <th>91074</th>\n",
       "      <td>104820</td>\n",
       "      <td>1499_215</td>\n",
       "      <td>1499</td>\n",
       "      <td>2018-10-20</td>\n",
       "      <td>218.06</td>\n",
       "    </tr>\n",
       "    <tr>\n",
       "      <th>91075</th>\n",
       "      <td>104821</td>\n",
       "      <td>1499_216</td>\n",
       "      <td>1499</td>\n",
       "      <td>2018-12-30</td>\n",
       "      <td>304.72</td>\n",
       "    </tr>\n",
       "    <tr>\n",
       "      <th>91076</th>\n",
       "      <td>104822</td>\n",
       "      <td>1499_217</td>\n",
       "      <td>1499</td>\n",
       "      <td>2018-09-22</td>\n",
       "      <td>292.75</td>\n",
       "    </tr>\n",
       "    <tr>\n",
       "      <th>91077</th>\n",
       "      <td>104824</td>\n",
       "      <td>1499_219</td>\n",
       "      <td>1499</td>\n",
       "      <td>2018-12-24</td>\n",
       "      <td>758.31</td>\n",
       "    </tr>\n",
       "  </tbody>\n",
       "</table>\n",
       "<p>91078 rows × 5 columns</p>\n",
       "</div>"
      ],
      "text/plain": [
       "        index        id  user_id session_date  mb_used\n",
       "0           0   1000_13     1000   2018-12-29    89.86\n",
       "1           2  1000_379     1000   2018-12-28   660.40\n",
       "2           3  1000_413     1000   2018-12-26   270.99\n",
       "3           4  1000_442     1000   2018-12-27   880.22\n",
       "4           5    1001_0     1001   2018-08-24   284.68\n",
       "...       ...       ...      ...          ...      ...\n",
       "91073  104819  1499_214     1499   2018-10-18   261.13\n",
       "91074  104820  1499_215     1499   2018-10-20   218.06\n",
       "91075  104821  1499_216     1499   2018-12-30   304.72\n",
       "91076  104822  1499_217     1499   2018-09-22   292.75\n",
       "91077  104824  1499_219     1499   2018-12-24   758.31\n",
       "\n",
       "[91078 rows x 5 columns]"
      ]
     },
     "execution_count": 22,
     "metadata": {},
     "output_type": "execute_result"
    }
   ],
   "source": [
    "internet"
   ]
  },
  {
   "cell_type": "markdown",
   "id": "0610081a",
   "metadata": {},
   "source": [
    "La tabla `internet` queda con 91078 registros, después que fueron eliminados los registros de mb_used en 0.0."
   ]
  },
  {
   "cell_type": "markdown",
   "id": "e9994cc5",
   "metadata": {},
   "source": [
    "Vamos a calcular por cada usuario:\n",
    "* El número de llamadas realizadas y minutos utilizados al mes.\n",
    "* La cantidad de los SMS enviados por mes.\n",
    "* El volumen de datos por mes.\n",
    "* Los ingresos mensuales de cada usuario (resta el límite del paquete gratuito del número total de llamadas, SMS y datos; multiplica el resultado por el valor de tarifa de llamadas; agrega el cargo mensual según la tarifa de llamadas)"
   ]
  },
  {
   "cell_type": "code",
   "execution_count": 23,
   "id": "6b79ed9e",
   "metadata": {
    "ExecuteTime": {
     "end_time": "2023-01-05T13:45:24.965109Z",
     "start_time": "2023-01-05T13:45:24.927289Z"
    },
    "scrolled": true
   },
   "outputs": [],
   "source": [
    "# agregamos columna mes en 3 tablas\n",
    "calls['month']   = pd.DatetimeIndex(calls['call_date']).month\n",
    "internet['month'] = pd.DatetimeIndex(internet['session_date']).month\n",
    "messages['month']  = pd.DatetimeIndex(messages['message_date']).month"
   ]
  },
  {
   "cell_type": "code",
   "execution_count": 24,
   "id": "ae581474",
   "metadata": {
    "ExecuteTime": {
     "end_time": "2023-01-05T13:45:25.025154Z",
     "start_time": "2023-01-05T13:45:24.965109Z"
    }
   },
   "outputs": [
    {
     "data": {
      "text/html": [
       "<div>\n",
       "<style scoped>\n",
       "    .dataframe tbody tr th:only-of-type {\n",
       "        vertical-align: middle;\n",
       "    }\n",
       "\n",
       "    .dataframe tbody tr th {\n",
       "        vertical-align: top;\n",
       "    }\n",
       "\n",
       "    .dataframe thead th {\n",
       "        text-align: right;\n",
       "    }\n",
       "</style>\n",
       "<table border=\"1\" class=\"dataframe\">\n",
       "  <thead>\n",
       "    <tr style=\"text-align: right;\">\n",
       "      <th></th>\n",
       "      <th>user_id</th>\n",
       "      <th>month</th>\n",
       "      <th>calls_used</th>\n",
       "      <th>minutes_used</th>\n",
       "    </tr>\n",
       "  </thead>\n",
       "  <tbody>\n",
       "    <tr>\n",
       "      <th>0</th>\n",
       "      <td>1000</td>\n",
       "      <td>12</td>\n",
       "      <td>16</td>\n",
       "      <td>124.0</td>\n",
       "    </tr>\n",
       "    <tr>\n",
       "      <th>1</th>\n",
       "      <td>1001</td>\n",
       "      <td>8</td>\n",
       "      <td>27</td>\n",
       "      <td>182.0</td>\n",
       "    </tr>\n",
       "    <tr>\n",
       "      <th>2</th>\n",
       "      <td>1001</td>\n",
       "      <td>9</td>\n",
       "      <td>49</td>\n",
       "      <td>315.0</td>\n",
       "    </tr>\n",
       "    <tr>\n",
       "      <th>3</th>\n",
       "      <td>1001</td>\n",
       "      <td>10</td>\n",
       "      <td>65</td>\n",
       "      <td>393.0</td>\n",
       "    </tr>\n",
       "    <tr>\n",
       "      <th>4</th>\n",
       "      <td>1001</td>\n",
       "      <td>11</td>\n",
       "      <td>64</td>\n",
       "      <td>426.0</td>\n",
       "    </tr>\n",
       "    <tr>\n",
       "      <th>...</th>\n",
       "      <td>...</td>\n",
       "      <td>...</td>\n",
       "      <td>...</td>\n",
       "      <td>...</td>\n",
       "    </tr>\n",
       "    <tr>\n",
       "      <th>2253</th>\n",
       "      <td>1498</td>\n",
       "      <td>12</td>\n",
       "      <td>39</td>\n",
       "      <td>339.0</td>\n",
       "    </tr>\n",
       "    <tr>\n",
       "      <th>2254</th>\n",
       "      <td>1499</td>\n",
       "      <td>9</td>\n",
       "      <td>41</td>\n",
       "      <td>346.0</td>\n",
       "    </tr>\n",
       "    <tr>\n",
       "      <th>2255</th>\n",
       "      <td>1499</td>\n",
       "      <td>10</td>\n",
       "      <td>53</td>\n",
       "      <td>385.0</td>\n",
       "    </tr>\n",
       "    <tr>\n",
       "      <th>2256</th>\n",
       "      <td>1499</td>\n",
       "      <td>11</td>\n",
       "      <td>45</td>\n",
       "      <td>308.0</td>\n",
       "    </tr>\n",
       "    <tr>\n",
       "      <th>2257</th>\n",
       "      <td>1499</td>\n",
       "      <td>12</td>\n",
       "      <td>65</td>\n",
       "      <td>496.0</td>\n",
       "    </tr>\n",
       "  </tbody>\n",
       "</table>\n",
       "<p>2258 rows × 4 columns</p>\n",
       "</div>"
      ],
      "text/plain": [
       "      user_id  month  calls_used  minutes_used\n",
       "0        1000     12          16         124.0\n",
       "1        1001      8          27         182.0\n",
       "2        1001      9          49         315.0\n",
       "3        1001     10          65         393.0\n",
       "4        1001     11          64         426.0\n",
       "...       ...    ...         ...           ...\n",
       "2253     1498     12          39         339.0\n",
       "2254     1499      9          41         346.0\n",
       "2255     1499     10          53         385.0\n",
       "2256     1499     11          45         308.0\n",
       "2257     1499     12          65         496.0\n",
       "\n",
       "[2258 rows x 4 columns]"
      ]
     },
     "execution_count": 24,
     "metadata": {},
     "output_type": "execute_result"
    }
   ],
   "source": [
    "# llamadas realizadas y minutos utilizados al mes\n",
    "calls_users = calls.pivot_table(index=['user_id','month'], \n",
    "                                values='duration', \n",
    "                                aggfunc=['count', 'sum']).reset_index()\n",
    "\n",
    "calls_users.columns = ['user_id', 'month', 'calls_used', 'minutes_used']\n",
    "calls_users"
   ]
  },
  {
   "cell_type": "code",
   "execution_count": 25,
   "id": "b6e32c1e",
   "metadata": {
    "ExecuteTime": {
     "end_time": "2023-01-05T13:45:25.055314Z",
     "start_time": "2023-01-05T13:45:25.025154Z"
    }
   },
   "outputs": [
    {
     "data": {
      "text/html": [
       "<div>\n",
       "<style scoped>\n",
       "    .dataframe tbody tr th:only-of-type {\n",
       "        vertical-align: middle;\n",
       "    }\n",
       "\n",
       "    .dataframe tbody tr th {\n",
       "        vertical-align: top;\n",
       "    }\n",
       "\n",
       "    .dataframe thead th {\n",
       "        text-align: right;\n",
       "    }\n",
       "</style>\n",
       "<table border=\"1\" class=\"dataframe\">\n",
       "  <thead>\n",
       "    <tr style=\"text-align: right;\">\n",
       "      <th></th>\n",
       "      <th>user_id</th>\n",
       "      <th>month</th>\n",
       "      <th>sms_used</th>\n",
       "    </tr>\n",
       "  </thead>\n",
       "  <tbody>\n",
       "    <tr>\n",
       "      <th>0</th>\n",
       "      <td>1000</td>\n",
       "      <td>12</td>\n",
       "      <td>11</td>\n",
       "    </tr>\n",
       "    <tr>\n",
       "      <th>1</th>\n",
       "      <td>1001</td>\n",
       "      <td>8</td>\n",
       "      <td>30</td>\n",
       "    </tr>\n",
       "    <tr>\n",
       "      <th>2</th>\n",
       "      <td>1001</td>\n",
       "      <td>9</td>\n",
       "      <td>44</td>\n",
       "    </tr>\n",
       "    <tr>\n",
       "      <th>3</th>\n",
       "      <td>1001</td>\n",
       "      <td>10</td>\n",
       "      <td>53</td>\n",
       "    </tr>\n",
       "    <tr>\n",
       "      <th>4</th>\n",
       "      <td>1001</td>\n",
       "      <td>11</td>\n",
       "      <td>36</td>\n",
       "    </tr>\n",
       "    <tr>\n",
       "      <th>...</th>\n",
       "      <td>...</td>\n",
       "      <td>...</td>\n",
       "      <td>...</td>\n",
       "    </tr>\n",
       "    <tr>\n",
       "      <th>1801</th>\n",
       "      <td>1496</td>\n",
       "      <td>9</td>\n",
       "      <td>21</td>\n",
       "    </tr>\n",
       "    <tr>\n",
       "      <th>1802</th>\n",
       "      <td>1496</td>\n",
       "      <td>10</td>\n",
       "      <td>18</td>\n",
       "    </tr>\n",
       "    <tr>\n",
       "      <th>1803</th>\n",
       "      <td>1496</td>\n",
       "      <td>11</td>\n",
       "      <td>13</td>\n",
       "    </tr>\n",
       "    <tr>\n",
       "      <th>1804</th>\n",
       "      <td>1496</td>\n",
       "      <td>12</td>\n",
       "      <td>11</td>\n",
       "    </tr>\n",
       "    <tr>\n",
       "      <th>1805</th>\n",
       "      <td>1497</td>\n",
       "      <td>12</td>\n",
       "      <td>50</td>\n",
       "    </tr>\n",
       "  </tbody>\n",
       "</table>\n",
       "<p>1806 rows × 3 columns</p>\n",
       "</div>"
      ],
      "text/plain": [
       "      user_id  month  sms_used\n",
       "0        1000     12        11\n",
       "1        1001      8        30\n",
       "2        1001      9        44\n",
       "3        1001     10        53\n",
       "4        1001     11        36\n",
       "...       ...    ...       ...\n",
       "1801     1496      9        21\n",
       "1802     1496     10        18\n",
       "1803     1496     11        13\n",
       "1804     1496     12        11\n",
       "1805     1497     12        50\n",
       "\n",
       "[1806 rows x 3 columns]"
      ]
     },
     "execution_count": 25,
     "metadata": {},
     "output_type": "execute_result"
    }
   ],
   "source": [
    "# SMS enviados por mes\n",
    "sms_users = messages.pivot_table(index=['user_id', 'month'],\n",
    "                                 values='message_date',\n",
    "                                 aggfunc='count').reset_index()\n",
    "\n",
    "sms_users.columns = ['user_id', 'month', 'sms_used']\n",
    "sms_users"
   ]
  },
  {
   "cell_type": "code",
   "execution_count": 26,
   "id": "aba32322",
   "metadata": {
    "ExecuteTime": {
     "end_time": "2023-01-05T13:45:25.084745Z",
     "start_time": "2023-01-05T13:45:25.055314Z"
    }
   },
   "outputs": [
    {
     "data": {
      "text/html": [
       "<div>\n",
       "<style scoped>\n",
       "    .dataframe tbody tr th:only-of-type {\n",
       "        vertical-align: middle;\n",
       "    }\n",
       "\n",
       "    .dataframe tbody tr th {\n",
       "        vertical-align: top;\n",
       "    }\n",
       "\n",
       "    .dataframe thead th {\n",
       "        text-align: right;\n",
       "    }\n",
       "</style>\n",
       "<table border=\"1\" class=\"dataframe\">\n",
       "  <thead>\n",
       "    <tr style=\"text-align: right;\">\n",
       "      <th></th>\n",
       "      <th>user_id</th>\n",
       "      <th>month</th>\n",
       "      <th>gb_used</th>\n",
       "    </tr>\n",
       "  </thead>\n",
       "  <tbody>\n",
       "    <tr>\n",
       "      <th>0</th>\n",
       "      <td>1000</td>\n",
       "      <td>12</td>\n",
       "      <td>2</td>\n",
       "    </tr>\n",
       "    <tr>\n",
       "      <th>1</th>\n",
       "      <td>1001</td>\n",
       "      <td>8</td>\n",
       "      <td>7</td>\n",
       "    </tr>\n",
       "    <tr>\n",
       "      <th>2</th>\n",
       "      <td>1001</td>\n",
       "      <td>9</td>\n",
       "      <td>14</td>\n",
       "    </tr>\n",
       "    <tr>\n",
       "      <th>3</th>\n",
       "      <td>1001</td>\n",
       "      <td>10</td>\n",
       "      <td>22</td>\n",
       "    </tr>\n",
       "    <tr>\n",
       "      <th>4</th>\n",
       "      <td>1001</td>\n",
       "      <td>11</td>\n",
       "      <td>19</td>\n",
       "    </tr>\n",
       "    <tr>\n",
       "      <th>...</th>\n",
       "      <td>...</td>\n",
       "      <td>...</td>\n",
       "      <td>...</td>\n",
       "    </tr>\n",
       "    <tr>\n",
       "      <th>2272</th>\n",
       "      <td>1498</td>\n",
       "      <td>12</td>\n",
       "      <td>23</td>\n",
       "    </tr>\n",
       "    <tr>\n",
       "      <th>2273</th>\n",
       "      <td>1499</td>\n",
       "      <td>9</td>\n",
       "      <td>13</td>\n",
       "    </tr>\n",
       "    <tr>\n",
       "      <th>2274</th>\n",
       "      <td>1499</td>\n",
       "      <td>10</td>\n",
       "      <td>20</td>\n",
       "    </tr>\n",
       "    <tr>\n",
       "      <th>2275</th>\n",
       "      <td>1499</td>\n",
       "      <td>11</td>\n",
       "      <td>17</td>\n",
       "    </tr>\n",
       "    <tr>\n",
       "      <th>2276</th>\n",
       "      <td>1499</td>\n",
       "      <td>12</td>\n",
       "      <td>22</td>\n",
       "    </tr>\n",
       "  </tbody>\n",
       "</table>\n",
       "<p>2277 rows × 3 columns</p>\n",
       "</div>"
      ],
      "text/plain": [
       "      user_id  month  gb_used\n",
       "0        1000     12        2\n",
       "1        1001      8        7\n",
       "2        1001      9       14\n",
       "3        1001     10       22\n",
       "4        1001     11       19\n",
       "...       ...    ...      ...\n",
       "2272     1498     12       23\n",
       "2273     1499      9       13\n",
       "2274     1499     10       20\n",
       "2275     1499     11       17\n",
       "2276     1499     12       22\n",
       "\n",
       "[2277 rows x 3 columns]"
      ]
     },
     "execution_count": 26,
     "metadata": {},
     "output_type": "execute_result"
    }
   ],
   "source": [
    "# GB de datos usados por mes\n",
    "internet_users = internet.pivot_table(index=['user_id', 'month'], \n",
    "                                      values='mb_used', \n",
    "                                      aggfunc='sum').reset_index()\n",
    "\n",
    "# redondea de MB a GB por mes\n",
    "internet_users['mb_used'] = internet_users['mb_used'].apply(\n",
    "    lambda x: math.ceil(x/1024))\n",
    "\n",
    "internet_users.columns = ['user_id', 'month', 'gb_used']\n",
    "internet_users"
   ]
  },
  {
   "cell_type": "markdown",
   "id": "e5c850f3",
   "metadata": {},
   "source": [
    "Hemos creado 3 tablas resumen de llamadas, mensajes y datos usados. Vamos a crear una nueva tabla donde nos muestre por usuario todos estos datos juntos."
   ]
  },
  {
   "cell_type": "code",
   "execution_count": 27,
   "id": "7b6544c3",
   "metadata": {
    "ExecuteTime": {
     "end_time": "2023-01-05T13:45:25.105285Z",
     "start_time": "2023-01-05T13:45:25.086935Z"
    }
   },
   "outputs": [],
   "source": [
    "# tabla resumen de usuarios uniendo calls_users, sms_users y internet_users\n",
    "users_resume = calls_users.merge(     sms_users, on=['user_id', 'month'], how='outer'\n",
    "                         ).merge(internet_users, on=['user_id', 'month'], how='outer'\n",
    "                         ).fillna(value=0)"
   ]
  },
  {
   "cell_type": "code",
   "execution_count": 28,
   "id": "281e17eb",
   "metadata": {
    "ExecuteTime": {
     "end_time": "2023-01-05T13:45:25.135375Z",
     "start_time": "2023-01-05T13:45:25.112122Z"
    }
   },
   "outputs": [
    {
     "data": {
      "text/html": [
       "<div>\n",
       "<style scoped>\n",
       "    .dataframe tbody tr th:only-of-type {\n",
       "        vertical-align: middle;\n",
       "    }\n",
       "\n",
       "    .dataframe tbody tr th {\n",
       "        vertical-align: top;\n",
       "    }\n",
       "\n",
       "    .dataframe thead th {\n",
       "        text-align: right;\n",
       "    }\n",
       "</style>\n",
       "<table border=\"1\" class=\"dataframe\">\n",
       "  <thead>\n",
       "    <tr style=\"text-align: right;\">\n",
       "      <th></th>\n",
       "      <th>user_id</th>\n",
       "      <th>month</th>\n",
       "      <th>calls_used</th>\n",
       "      <th>minutes_used</th>\n",
       "      <th>sms_used</th>\n",
       "      <th>gb_used</th>\n",
       "    </tr>\n",
       "  </thead>\n",
       "  <tbody>\n",
       "    <tr>\n",
       "      <th>0</th>\n",
       "      <td>1000</td>\n",
       "      <td>12</td>\n",
       "      <td>16.0</td>\n",
       "      <td>124.0</td>\n",
       "      <td>11.0</td>\n",
       "      <td>2.0</td>\n",
       "    </tr>\n",
       "    <tr>\n",
       "      <th>1</th>\n",
       "      <td>1001</td>\n",
       "      <td>8</td>\n",
       "      <td>27.0</td>\n",
       "      <td>182.0</td>\n",
       "      <td>30.0</td>\n",
       "      <td>7.0</td>\n",
       "    </tr>\n",
       "    <tr>\n",
       "      <th>2</th>\n",
       "      <td>1001</td>\n",
       "      <td>9</td>\n",
       "      <td>49.0</td>\n",
       "      <td>315.0</td>\n",
       "      <td>44.0</td>\n",
       "      <td>14.0</td>\n",
       "    </tr>\n",
       "    <tr>\n",
       "      <th>3</th>\n",
       "      <td>1001</td>\n",
       "      <td>10</td>\n",
       "      <td>65.0</td>\n",
       "      <td>393.0</td>\n",
       "      <td>53.0</td>\n",
       "      <td>22.0</td>\n",
       "    </tr>\n",
       "    <tr>\n",
       "      <th>4</th>\n",
       "      <td>1001</td>\n",
       "      <td>11</td>\n",
       "      <td>64.0</td>\n",
       "      <td>426.0</td>\n",
       "      <td>36.0</td>\n",
       "      <td>19.0</td>\n",
       "    </tr>\n",
       "    <tr>\n",
       "      <th>...</th>\n",
       "      <td>...</td>\n",
       "      <td>...</td>\n",
       "      <td>...</td>\n",
       "      <td>...</td>\n",
       "      <td>...</td>\n",
       "      <td>...</td>\n",
       "    </tr>\n",
       "    <tr>\n",
       "      <th>2288</th>\n",
       "      <td>1349</td>\n",
       "      <td>12</td>\n",
       "      <td>0.0</td>\n",
       "      <td>0.0</td>\n",
       "      <td>61.0</td>\n",
       "      <td>13.0</td>\n",
       "    </tr>\n",
       "    <tr>\n",
       "      <th>2289</th>\n",
       "      <td>1361</td>\n",
       "      <td>5</td>\n",
       "      <td>0.0</td>\n",
       "      <td>0.0</td>\n",
       "      <td>2.0</td>\n",
       "      <td>2.0</td>\n",
       "    </tr>\n",
       "    <tr>\n",
       "      <th>2290</th>\n",
       "      <td>1482</td>\n",
       "      <td>10</td>\n",
       "      <td>0.0</td>\n",
       "      <td>0.0</td>\n",
       "      <td>2.0</td>\n",
       "      <td>0.0</td>\n",
       "    </tr>\n",
       "    <tr>\n",
       "      <th>2291</th>\n",
       "      <td>1108</td>\n",
       "      <td>12</td>\n",
       "      <td>0.0</td>\n",
       "      <td>0.0</td>\n",
       "      <td>0.0</td>\n",
       "      <td>1.0</td>\n",
       "    </tr>\n",
       "    <tr>\n",
       "      <th>2292</th>\n",
       "      <td>1311</td>\n",
       "      <td>6</td>\n",
       "      <td>0.0</td>\n",
       "      <td>0.0</td>\n",
       "      <td>0.0</td>\n",
       "      <td>2.0</td>\n",
       "    </tr>\n",
       "  </tbody>\n",
       "</table>\n",
       "<p>2293 rows × 6 columns</p>\n",
       "</div>"
      ],
      "text/plain": [
       "      user_id  month  calls_used  minutes_used  sms_used  gb_used\n",
       "0        1000     12        16.0         124.0      11.0      2.0\n",
       "1        1001      8        27.0         182.0      30.0      7.0\n",
       "2        1001      9        49.0         315.0      44.0     14.0\n",
       "3        1001     10        65.0         393.0      53.0     22.0\n",
       "4        1001     11        64.0         426.0      36.0     19.0\n",
       "...       ...    ...         ...           ...       ...      ...\n",
       "2288     1349     12         0.0           0.0      61.0     13.0\n",
       "2289     1361      5         0.0           0.0       2.0      2.0\n",
       "2290     1482     10         0.0           0.0       2.0      0.0\n",
       "2291     1108     12         0.0           0.0       0.0      1.0\n",
       "2292     1311      6         0.0           0.0       0.0      2.0\n",
       "\n",
       "[2293 rows x 6 columns]"
      ]
     },
     "execution_count": 28,
     "metadata": {},
     "output_type": "execute_result"
    }
   ],
   "source": [
    "users_resume"
   ]
  },
  {
   "cell_type": "code",
   "execution_count": 29,
   "id": "35afd94d",
   "metadata": {
    "ExecuteTime": {
     "end_time": "2023-01-05T13:45:25.176714Z",
     "start_time": "2023-01-05T13:45:25.136382Z"
    },
    "scrolled": true
   },
   "outputs": [
    {
     "name": "stdout",
     "output_type": "stream",
     "text": [
      "summary users\n"
     ]
    },
    {
     "data": {
      "text/html": [
       "<div>\n",
       "<style scoped>\n",
       "    .dataframe tbody tr th:only-of-type {\n",
       "        vertical-align: middle;\n",
       "    }\n",
       "\n",
       "    .dataframe tbody tr th {\n",
       "        vertical-align: top;\n",
       "    }\n",
       "\n",
       "    .dataframe thead th {\n",
       "        text-align: right;\n",
       "    }\n",
       "</style>\n",
       "<table border=\"1\" class=\"dataframe\">\n",
       "  <thead>\n",
       "    <tr style=\"text-align: right;\">\n",
       "      <th></th>\n",
       "      <th>user_id</th>\n",
       "      <th>month</th>\n",
       "      <th>calls_used</th>\n",
       "      <th>minutes_used</th>\n",
       "      <th>sms_used</th>\n",
       "      <th>gb_used</th>\n",
       "    </tr>\n",
       "  </thead>\n",
       "  <tbody>\n",
       "    <tr>\n",
       "      <th>1027</th>\n",
       "      <td>1222</td>\n",
       "      <td>6</td>\n",
       "      <td>2.0</td>\n",
       "      <td>14.0</td>\n",
       "      <td>2.0</td>\n",
       "      <td>0.0</td>\n",
       "    </tr>\n",
       "    <tr>\n",
       "      <th>1028</th>\n",
       "      <td>1222</td>\n",
       "      <td>7</td>\n",
       "      <td>90.0</td>\n",
       "      <td>699.0</td>\n",
       "      <td>23.0</td>\n",
       "      <td>24.0</td>\n",
       "    </tr>\n",
       "    <tr>\n",
       "      <th>1029</th>\n",
       "      <td>1222</td>\n",
       "      <td>8</td>\n",
       "      <td>78.0</td>\n",
       "      <td>526.0</td>\n",
       "      <td>20.0</td>\n",
       "      <td>18.0</td>\n",
       "    </tr>\n",
       "    <tr>\n",
       "      <th>1030</th>\n",
       "      <td>1222</td>\n",
       "      <td>9</td>\n",
       "      <td>67.0</td>\n",
       "      <td>565.0</td>\n",
       "      <td>18.0</td>\n",
       "      <td>17.0</td>\n",
       "    </tr>\n",
       "    <tr>\n",
       "      <th>1031</th>\n",
       "      <td>1222</td>\n",
       "      <td>10</td>\n",
       "      <td>83.0</td>\n",
       "      <td>672.0</td>\n",
       "      <td>27.0</td>\n",
       "      <td>20.0</td>\n",
       "    </tr>\n",
       "    <tr>\n",
       "      <th>1032</th>\n",
       "      <td>1222</td>\n",
       "      <td>11</td>\n",
       "      <td>83.0</td>\n",
       "      <td>618.0</td>\n",
       "      <td>12.0</td>\n",
       "      <td>18.0</td>\n",
       "    </tr>\n",
       "    <tr>\n",
       "      <th>1033</th>\n",
       "      <td>1222</td>\n",
       "      <td>12</td>\n",
       "      <td>94.0</td>\n",
       "      <td>637.0</td>\n",
       "      <td>24.0</td>\n",
       "      <td>15.0</td>\n",
       "    </tr>\n",
       "  </tbody>\n",
       "</table>\n",
       "</div>"
      ],
      "text/plain": [
       "      user_id  month  calls_used  minutes_used  sms_used  gb_used\n",
       "1027     1222      6         2.0          14.0       2.0      0.0\n",
       "1028     1222      7        90.0         699.0      23.0     24.0\n",
       "1029     1222      8        78.0         526.0      20.0     18.0\n",
       "1030     1222      9        67.0         565.0      18.0     17.0\n",
       "1031     1222     10        83.0         672.0      27.0     20.0\n",
       "1032     1222     11        83.0         618.0      12.0     18.0\n",
       "1033     1222     12        94.0         637.0      24.0     15.0"
      ]
     },
     "metadata": {},
     "output_type": "display_data"
    },
    {
     "name": "stdout",
     "output_type": "stream",
     "text": [
      "internet used per user\n"
     ]
    },
    {
     "data": {
      "text/html": [
       "<div>\n",
       "<style scoped>\n",
       "    .dataframe tbody tr th:only-of-type {\n",
       "        vertical-align: middle;\n",
       "    }\n",
       "\n",
       "    .dataframe tbody tr th {\n",
       "        vertical-align: top;\n",
       "    }\n",
       "\n",
       "    .dataframe thead th {\n",
       "        text-align: right;\n",
       "    }\n",
       "</style>\n",
       "<table border=\"1\" class=\"dataframe\">\n",
       "  <thead>\n",
       "    <tr style=\"text-align: right;\">\n",
       "      <th></th>\n",
       "      <th>user_id</th>\n",
       "      <th>month</th>\n",
       "      <th>gb_used</th>\n",
       "    </tr>\n",
       "  </thead>\n",
       "  <tbody>\n",
       "    <tr>\n",
       "      <th>1054</th>\n",
       "      <td>1222</td>\n",
       "      <td>7</td>\n",
       "      <td>24</td>\n",
       "    </tr>\n",
       "    <tr>\n",
       "      <th>1055</th>\n",
       "      <td>1222</td>\n",
       "      <td>8</td>\n",
       "      <td>18</td>\n",
       "    </tr>\n",
       "    <tr>\n",
       "      <th>1056</th>\n",
       "      <td>1222</td>\n",
       "      <td>9</td>\n",
       "      <td>17</td>\n",
       "    </tr>\n",
       "    <tr>\n",
       "      <th>1057</th>\n",
       "      <td>1222</td>\n",
       "      <td>10</td>\n",
       "      <td>20</td>\n",
       "    </tr>\n",
       "    <tr>\n",
       "      <th>1058</th>\n",
       "      <td>1222</td>\n",
       "      <td>11</td>\n",
       "      <td>18</td>\n",
       "    </tr>\n",
       "    <tr>\n",
       "      <th>1059</th>\n",
       "      <td>1222</td>\n",
       "      <td>12</td>\n",
       "      <td>15</td>\n",
       "    </tr>\n",
       "  </tbody>\n",
       "</table>\n",
       "</div>"
      ],
      "text/plain": [
       "      user_id  month  gb_used\n",
       "1054     1222      7       24\n",
       "1055     1222      8       18\n",
       "1056     1222      9       17\n",
       "1057     1222     10       20\n",
       "1058     1222     11       18\n",
       "1059     1222     12       15"
      ]
     },
     "metadata": {},
     "output_type": "display_data"
    },
    {
     "name": "stdout",
     "output_type": "stream",
     "text": [
      "messages used per user\n"
     ]
    },
    {
     "data": {
      "text/html": [
       "<div>\n",
       "<style scoped>\n",
       "    .dataframe tbody tr th:only-of-type {\n",
       "        vertical-align: middle;\n",
       "    }\n",
       "\n",
       "    .dataframe tbody tr th {\n",
       "        vertical-align: top;\n",
       "    }\n",
       "\n",
       "    .dataframe thead th {\n",
       "        text-align: right;\n",
       "    }\n",
       "</style>\n",
       "<table border=\"1\" class=\"dataframe\">\n",
       "  <thead>\n",
       "    <tr style=\"text-align: right;\">\n",
       "      <th></th>\n",
       "      <th>user_id</th>\n",
       "      <th>month</th>\n",
       "      <th>sms_used</th>\n",
       "    </tr>\n",
       "  </thead>\n",
       "  <tbody>\n",
       "    <tr>\n",
       "      <th>830</th>\n",
       "      <td>1222</td>\n",
       "      <td>6</td>\n",
       "      <td>2</td>\n",
       "    </tr>\n",
       "    <tr>\n",
       "      <th>831</th>\n",
       "      <td>1222</td>\n",
       "      <td>7</td>\n",
       "      <td>23</td>\n",
       "    </tr>\n",
       "    <tr>\n",
       "      <th>832</th>\n",
       "      <td>1222</td>\n",
       "      <td>8</td>\n",
       "      <td>20</td>\n",
       "    </tr>\n",
       "    <tr>\n",
       "      <th>833</th>\n",
       "      <td>1222</td>\n",
       "      <td>9</td>\n",
       "      <td>18</td>\n",
       "    </tr>\n",
       "    <tr>\n",
       "      <th>834</th>\n",
       "      <td>1222</td>\n",
       "      <td>10</td>\n",
       "      <td>27</td>\n",
       "    </tr>\n",
       "    <tr>\n",
       "      <th>835</th>\n",
       "      <td>1222</td>\n",
       "      <td>11</td>\n",
       "      <td>12</td>\n",
       "    </tr>\n",
       "    <tr>\n",
       "      <th>836</th>\n",
       "      <td>1222</td>\n",
       "      <td>12</td>\n",
       "      <td>24</td>\n",
       "    </tr>\n",
       "  </tbody>\n",
       "</table>\n",
       "</div>"
      ],
      "text/plain": [
       "     user_id  month  sms_used\n",
       "830     1222      6         2\n",
       "831     1222      7        23\n",
       "832     1222      8        20\n",
       "833     1222      9        18\n",
       "834     1222     10        27\n",
       "835     1222     11        12\n",
       "836     1222     12        24"
      ]
     },
     "metadata": {},
     "output_type": "display_data"
    },
    {
     "name": "stdout",
     "output_type": "stream",
     "text": [
      "calls used per user\n"
     ]
    },
    {
     "data": {
      "text/html": [
       "<div>\n",
       "<style scoped>\n",
       "    .dataframe tbody tr th:only-of-type {\n",
       "        vertical-align: middle;\n",
       "    }\n",
       "\n",
       "    .dataframe tbody tr th {\n",
       "        vertical-align: top;\n",
       "    }\n",
       "\n",
       "    .dataframe thead th {\n",
       "        text-align: right;\n",
       "    }\n",
       "</style>\n",
       "<table border=\"1\" class=\"dataframe\">\n",
       "  <thead>\n",
       "    <tr style=\"text-align: right;\">\n",
       "      <th></th>\n",
       "      <th>user_id</th>\n",
       "      <th>month</th>\n",
       "      <th>calls_used</th>\n",
       "      <th>minutes_used</th>\n",
       "    </tr>\n",
       "  </thead>\n",
       "  <tbody>\n",
       "    <tr>\n",
       "      <th>1027</th>\n",
       "      <td>1222</td>\n",
       "      <td>6</td>\n",
       "      <td>2</td>\n",
       "      <td>14.0</td>\n",
       "    </tr>\n",
       "    <tr>\n",
       "      <th>1028</th>\n",
       "      <td>1222</td>\n",
       "      <td>7</td>\n",
       "      <td>90</td>\n",
       "      <td>699.0</td>\n",
       "    </tr>\n",
       "    <tr>\n",
       "      <th>1029</th>\n",
       "      <td>1222</td>\n",
       "      <td>8</td>\n",
       "      <td>78</td>\n",
       "      <td>526.0</td>\n",
       "    </tr>\n",
       "    <tr>\n",
       "      <th>1030</th>\n",
       "      <td>1222</td>\n",
       "      <td>9</td>\n",
       "      <td>67</td>\n",
       "      <td>565.0</td>\n",
       "    </tr>\n",
       "    <tr>\n",
       "      <th>1031</th>\n",
       "      <td>1222</td>\n",
       "      <td>10</td>\n",
       "      <td>83</td>\n",
       "      <td>672.0</td>\n",
       "    </tr>\n",
       "    <tr>\n",
       "      <th>1032</th>\n",
       "      <td>1222</td>\n",
       "      <td>11</td>\n",
       "      <td>83</td>\n",
       "      <td>618.0</td>\n",
       "    </tr>\n",
       "    <tr>\n",
       "      <th>1033</th>\n",
       "      <td>1222</td>\n",
       "      <td>12</td>\n",
       "      <td>94</td>\n",
       "      <td>637.0</td>\n",
       "    </tr>\n",
       "  </tbody>\n",
       "</table>\n",
       "</div>"
      ],
      "text/plain": [
       "      user_id  month  calls_used  minutes_used\n",
       "1027     1222      6           2          14.0\n",
       "1028     1222      7          90         699.0\n",
       "1029     1222      8          78         526.0\n",
       "1030     1222      9          67         565.0\n",
       "1031     1222     10          83         672.0\n",
       "1032     1222     11          83         618.0\n",
       "1033     1222     12          94         637.0"
      ]
     },
     "metadata": {},
     "output_type": "display_data"
    }
   ],
   "source": [
    "# verificamos la tabla resumen de usuarios con las tablas individuales calls_users, sms_users y internet_users, con el fin\n",
    "# de que los merges estén correctamente mezclados sin perder información. El ejemplo a continuación con cualquier usuario\n",
    "\n",
    "user = 1222 # usuario al azar\n",
    "print('summary users')\n",
    "display(users_resume.query('user_id == @user'))\n",
    "\n",
    "print('internet used per user')\n",
    "display(internet_users.query('user_id == @user'))\n",
    "\n",
    "print('messages used per user')\n",
    "display(sms_users.query('user_id == @user'))\n",
    "\n",
    "print('calls used per user')\n",
    "display(calls_users.query('user_id == @user'))"
   ]
  },
  {
   "cell_type": "markdown",
   "id": "5ec84388",
   "metadata": {},
   "source": [
    "Ok, hasta ahora tenemos nuestra tabla resumen con 2293 registros y 6 columnas."
   ]
  },
  {
   "cell_type": "markdown",
   "id": "a0b34043",
   "metadata": {
    "ExecuteTime": {
     "end_time": "2022-12-28T23:17:40.410735Z",
     "start_time": "2022-12-28T23:17:40.386252Z"
    }
   },
   "source": [
    "Pero seguiremos sumando nuevas columnas a la tabla. Ahora, calcularemos los ingresos mensuales de cada usuario (resta el límite del paquete gratuito del número total de llamadas, SMS y datos; multiplica el resultado por el valor de tarifa de llamadas; agrega el cargo mensual según la tarifa de llamadas)"
   ]
  },
  {
   "cell_type": "code",
   "execution_count": 30,
   "id": "f2d94068",
   "metadata": {
    "ExecuteTime": {
     "end_time": "2023-01-05T13:45:25.193079Z",
     "start_time": "2023-01-05T13:45:25.176714Z"
    }
   },
   "outputs": [],
   "source": [
    "# agregamos la columna plan en nuestra tabla resumen\n",
    "users_resume = users_resume.merge(users[['user_id', 'plan']], on='user_id')"
   ]
  },
  {
   "cell_type": "code",
   "execution_count": 31,
   "id": "057af4bd",
   "metadata": {
    "ExecuteTime": {
     "end_time": "2023-01-05T13:45:25.212046Z",
     "start_time": "2023-01-05T13:45:25.193079Z"
    }
   },
   "outputs": [
    {
     "data": {
      "text/html": [
       "<div>\n",
       "<style scoped>\n",
       "    .dataframe tbody tr th:only-of-type {\n",
       "        vertical-align: middle;\n",
       "    }\n",
       "\n",
       "    .dataframe tbody tr th {\n",
       "        vertical-align: top;\n",
       "    }\n",
       "\n",
       "    .dataframe thead th {\n",
       "        text-align: right;\n",
       "    }\n",
       "</style>\n",
       "<table border=\"1\" class=\"dataframe\">\n",
       "  <thead>\n",
       "    <tr style=\"text-align: right;\">\n",
       "      <th></th>\n",
       "      <th>user_id</th>\n",
       "      <th>month</th>\n",
       "      <th>calls_used</th>\n",
       "      <th>minutes_used</th>\n",
       "      <th>sms_used</th>\n",
       "      <th>gb_used</th>\n",
       "      <th>plan</th>\n",
       "    </tr>\n",
       "  </thead>\n",
       "  <tbody>\n",
       "    <tr>\n",
       "      <th>0</th>\n",
       "      <td>1000</td>\n",
       "      <td>12</td>\n",
       "      <td>16.0</td>\n",
       "      <td>124.0</td>\n",
       "      <td>11.0</td>\n",
       "      <td>2.0</td>\n",
       "      <td>ultimate</td>\n",
       "    </tr>\n",
       "    <tr>\n",
       "      <th>1</th>\n",
       "      <td>1001</td>\n",
       "      <td>8</td>\n",
       "      <td>27.0</td>\n",
       "      <td>182.0</td>\n",
       "      <td>30.0</td>\n",
       "      <td>7.0</td>\n",
       "      <td>surf</td>\n",
       "    </tr>\n",
       "    <tr>\n",
       "      <th>2</th>\n",
       "      <td>1001</td>\n",
       "      <td>9</td>\n",
       "      <td>49.0</td>\n",
       "      <td>315.0</td>\n",
       "      <td>44.0</td>\n",
       "      <td>14.0</td>\n",
       "      <td>surf</td>\n",
       "    </tr>\n",
       "    <tr>\n",
       "      <th>3</th>\n",
       "      <td>1001</td>\n",
       "      <td>10</td>\n",
       "      <td>65.0</td>\n",
       "      <td>393.0</td>\n",
       "      <td>53.0</td>\n",
       "      <td>22.0</td>\n",
       "      <td>surf</td>\n",
       "    </tr>\n",
       "    <tr>\n",
       "      <th>4</th>\n",
       "      <td>1001</td>\n",
       "      <td>11</td>\n",
       "      <td>64.0</td>\n",
       "      <td>426.0</td>\n",
       "      <td>36.0</td>\n",
       "      <td>19.0</td>\n",
       "      <td>surf</td>\n",
       "    </tr>\n",
       "    <tr>\n",
       "      <th>...</th>\n",
       "      <td>...</td>\n",
       "      <td>...</td>\n",
       "      <td>...</td>\n",
       "      <td>...</td>\n",
       "      <td>...</td>\n",
       "      <td>...</td>\n",
       "      <td>...</td>\n",
       "    </tr>\n",
       "    <tr>\n",
       "      <th>2288</th>\n",
       "      <td>1204</td>\n",
       "      <td>12</td>\n",
       "      <td>0.0</td>\n",
       "      <td>0.0</td>\n",
       "      <td>78.0</td>\n",
       "      <td>36.0</td>\n",
       "      <td>ultimate</td>\n",
       "    </tr>\n",
       "    <tr>\n",
       "      <th>2289</th>\n",
       "      <td>1349</td>\n",
       "      <td>10</td>\n",
       "      <td>0.0</td>\n",
       "      <td>0.0</td>\n",
       "      <td>76.0</td>\n",
       "      <td>13.0</td>\n",
       "      <td>surf</td>\n",
       "    </tr>\n",
       "    <tr>\n",
       "      <th>2290</th>\n",
       "      <td>1349</td>\n",
       "      <td>11</td>\n",
       "      <td>0.0</td>\n",
       "      <td>0.0</td>\n",
       "      <td>72.0</td>\n",
       "      <td>17.0</td>\n",
       "      <td>surf</td>\n",
       "    </tr>\n",
       "    <tr>\n",
       "      <th>2291</th>\n",
       "      <td>1349</td>\n",
       "      <td>12</td>\n",
       "      <td>0.0</td>\n",
       "      <td>0.0</td>\n",
       "      <td>61.0</td>\n",
       "      <td>13.0</td>\n",
       "      <td>surf</td>\n",
       "    </tr>\n",
       "    <tr>\n",
       "      <th>2292</th>\n",
       "      <td>1108</td>\n",
       "      <td>12</td>\n",
       "      <td>0.0</td>\n",
       "      <td>0.0</td>\n",
       "      <td>0.0</td>\n",
       "      <td>1.0</td>\n",
       "      <td>ultimate</td>\n",
       "    </tr>\n",
       "  </tbody>\n",
       "</table>\n",
       "<p>2293 rows × 7 columns</p>\n",
       "</div>"
      ],
      "text/plain": [
       "      user_id  month  calls_used  minutes_used  sms_used  gb_used      plan\n",
       "0        1000     12        16.0         124.0      11.0      2.0  ultimate\n",
       "1        1001      8        27.0         182.0      30.0      7.0      surf\n",
       "2        1001      9        49.0         315.0      44.0     14.0      surf\n",
       "3        1001     10        65.0         393.0      53.0     22.0      surf\n",
       "4        1001     11        64.0         426.0      36.0     19.0      surf\n",
       "...       ...    ...         ...           ...       ...      ...       ...\n",
       "2288     1204     12         0.0           0.0      78.0     36.0  ultimate\n",
       "2289     1349     10         0.0           0.0      76.0     13.0      surf\n",
       "2290     1349     11         0.0           0.0      72.0     17.0      surf\n",
       "2291     1349     12         0.0           0.0      61.0     13.0      surf\n",
       "2292     1108     12         0.0           0.0       0.0      1.0  ultimate\n",
       "\n",
       "[2293 rows x 7 columns]"
      ]
     },
     "execution_count": 31,
     "metadata": {},
     "output_type": "execute_result"
    }
   ],
   "source": [
    "users_resume"
   ]
  },
  {
   "cell_type": "code",
   "execution_count": 32,
   "id": "2da341fe",
   "metadata": {
    "ExecuteTime": {
     "end_time": "2023-01-05T13:45:25.228271Z",
     "start_time": "2023-01-05T13:45:25.212046Z"
    }
   },
   "outputs": [],
   "source": [
    "# renombramos columna plan_name por plan en tabla plans\n",
    "plans.rename({'plan_name': 'plan'}, axis='columns', inplace=True)"
   ]
  },
  {
   "cell_type": "code",
   "execution_count": 33,
   "id": "4364f470",
   "metadata": {
    "ExecuteTime": {
     "end_time": "2023-01-05T13:45:25.244543Z",
     "start_time": "2023-01-05T13:45:25.228271Z"
    }
   },
   "outputs": [
    {
     "data": {
      "text/html": [
       "<div>\n",
       "<style scoped>\n",
       "    .dataframe tbody tr th:only-of-type {\n",
       "        vertical-align: middle;\n",
       "    }\n",
       "\n",
       "    .dataframe tbody tr th {\n",
       "        vertical-align: top;\n",
       "    }\n",
       "\n",
       "    .dataframe thead th {\n",
       "        text-align: right;\n",
       "    }\n",
       "</style>\n",
       "<table border=\"1\" class=\"dataframe\">\n",
       "  <thead>\n",
       "    <tr style=\"text-align: right;\">\n",
       "      <th></th>\n",
       "      <th>messages_included</th>\n",
       "      <th>mb_per_month_included</th>\n",
       "      <th>minutes_included</th>\n",
       "      <th>usd_monthly_pay</th>\n",
       "      <th>usd_per_gb</th>\n",
       "      <th>usd_per_message</th>\n",
       "      <th>usd_per_minute</th>\n",
       "      <th>plan</th>\n",
       "    </tr>\n",
       "  </thead>\n",
       "  <tbody>\n",
       "    <tr>\n",
       "      <th>0</th>\n",
       "      <td>50</td>\n",
       "      <td>15360</td>\n",
       "      <td>500</td>\n",
       "      <td>20</td>\n",
       "      <td>10</td>\n",
       "      <td>0.03</td>\n",
       "      <td>0.03</td>\n",
       "      <td>surf</td>\n",
       "    </tr>\n",
       "    <tr>\n",
       "      <th>1</th>\n",
       "      <td>1000</td>\n",
       "      <td>30720</td>\n",
       "      <td>3000</td>\n",
       "      <td>70</td>\n",
       "      <td>7</td>\n",
       "      <td>0.01</td>\n",
       "      <td>0.01</td>\n",
       "      <td>ultimate</td>\n",
       "    </tr>\n",
       "  </tbody>\n",
       "</table>\n",
       "</div>"
      ],
      "text/plain": [
       "   messages_included  mb_per_month_included  minutes_included  \\\n",
       "0                 50                  15360               500   \n",
       "1               1000                  30720              3000   \n",
       "\n",
       "   usd_monthly_pay  usd_per_gb  usd_per_message  usd_per_minute      plan  \n",
       "0               20          10             0.03            0.03      surf  \n",
       "1               70           7             0.01            0.01  ultimate  "
      ]
     },
     "execution_count": 33,
     "metadata": {},
     "output_type": "execute_result"
    }
   ],
   "source": [
    "plans"
   ]
  },
  {
   "cell_type": "code",
   "execution_count": 34,
   "id": "d98de791",
   "metadata": {
    "ExecuteTime": {
     "end_time": "2023-01-05T13:45:25.265053Z",
     "start_time": "2023-01-05T13:45:25.245047Z"
    }
   },
   "outputs": [],
   "source": [
    "# agregamos columnas de la tabla plans y agregamos a nuestra tabla resumen users_resumen. Algunas serán temporales\n",
    "users_resume = users_resume.merge(plans, on='plan')\n",
    "# dejamos ordenada la tabla por user_id\n",
    "users_resume.sort_values(by='user_id', inplace=True)"
   ]
  },
  {
   "cell_type": "code",
   "execution_count": 35,
   "id": "3f0991c8",
   "metadata": {
    "ExecuteTime": {
     "end_time": "2023-01-05T13:45:25.284740Z",
     "start_time": "2023-01-05T13:45:25.265129Z"
    }
   },
   "outputs": [
    {
     "data": {
      "text/html": [
       "<div>\n",
       "<style scoped>\n",
       "    .dataframe tbody tr th:only-of-type {\n",
       "        vertical-align: middle;\n",
       "    }\n",
       "\n",
       "    .dataframe tbody tr th {\n",
       "        vertical-align: top;\n",
       "    }\n",
       "\n",
       "    .dataframe thead th {\n",
       "        text-align: right;\n",
       "    }\n",
       "</style>\n",
       "<table border=\"1\" class=\"dataframe\">\n",
       "  <thead>\n",
       "    <tr style=\"text-align: right;\">\n",
       "      <th></th>\n",
       "      <th>user_id</th>\n",
       "      <th>month</th>\n",
       "      <th>calls_used</th>\n",
       "      <th>minutes_used</th>\n",
       "      <th>sms_used</th>\n",
       "      <th>gb_used</th>\n",
       "      <th>plan</th>\n",
       "      <th>messages_included</th>\n",
       "      <th>mb_per_month_included</th>\n",
       "      <th>minutes_included</th>\n",
       "      <th>usd_monthly_pay</th>\n",
       "      <th>usd_per_gb</th>\n",
       "      <th>usd_per_message</th>\n",
       "      <th>usd_per_minute</th>\n",
       "    </tr>\n",
       "  </thead>\n",
       "  <tbody>\n",
       "    <tr>\n",
       "      <th>0</th>\n",
       "      <td>1000</td>\n",
       "      <td>12</td>\n",
       "      <td>16.0</td>\n",
       "      <td>124.0</td>\n",
       "      <td>11.0</td>\n",
       "      <td>2.0</td>\n",
       "      <td>ultimate</td>\n",
       "      <td>1000</td>\n",
       "      <td>30720</td>\n",
       "      <td>3000</td>\n",
       "      <td>70</td>\n",
       "      <td>7</td>\n",
       "      <td>0.01</td>\n",
       "      <td>0.01</td>\n",
       "    </tr>\n",
       "    <tr>\n",
       "      <th>723</th>\n",
       "      <td>1001</td>\n",
       "      <td>11</td>\n",
       "      <td>64.0</td>\n",
       "      <td>426.0</td>\n",
       "      <td>36.0</td>\n",
       "      <td>19.0</td>\n",
       "      <td>surf</td>\n",
       "      <td>50</td>\n",
       "      <td>15360</td>\n",
       "      <td>500</td>\n",
       "      <td>20</td>\n",
       "      <td>10</td>\n",
       "      <td>0.03</td>\n",
       "      <td>0.03</td>\n",
       "    </tr>\n",
       "    <tr>\n",
       "      <th>724</th>\n",
       "      <td>1001</td>\n",
       "      <td>12</td>\n",
       "      <td>56.0</td>\n",
       "      <td>412.0</td>\n",
       "      <td>44.0</td>\n",
       "      <td>19.0</td>\n",
       "      <td>surf</td>\n",
       "      <td>50</td>\n",
       "      <td>15360</td>\n",
       "      <td>500</td>\n",
       "      <td>20</td>\n",
       "      <td>10</td>\n",
       "      <td>0.03</td>\n",
       "      <td>0.03</td>\n",
       "    </tr>\n",
       "    <tr>\n",
       "      <th>722</th>\n",
       "      <td>1001</td>\n",
       "      <td>10</td>\n",
       "      <td>65.0</td>\n",
       "      <td>393.0</td>\n",
       "      <td>53.0</td>\n",
       "      <td>22.0</td>\n",
       "      <td>surf</td>\n",
       "      <td>50</td>\n",
       "      <td>15360</td>\n",
       "      <td>500</td>\n",
       "      <td>20</td>\n",
       "      <td>10</td>\n",
       "      <td>0.03</td>\n",
       "      <td>0.03</td>\n",
       "    </tr>\n",
       "    <tr>\n",
       "      <th>720</th>\n",
       "      <td>1001</td>\n",
       "      <td>8</td>\n",
       "      <td>27.0</td>\n",
       "      <td>182.0</td>\n",
       "      <td>30.0</td>\n",
       "      <td>7.0</td>\n",
       "      <td>surf</td>\n",
       "      <td>50</td>\n",
       "      <td>15360</td>\n",
       "      <td>500</td>\n",
       "      <td>20</td>\n",
       "      <td>10</td>\n",
       "      <td>0.03</td>\n",
       "      <td>0.03</td>\n",
       "    </tr>\n",
       "    <tr>\n",
       "      <th>...</th>\n",
       "      <td>...</td>\n",
       "      <td>...</td>\n",
       "      <td>...</td>\n",
       "      <td>...</td>\n",
       "      <td>...</td>\n",
       "      <td>...</td>\n",
       "      <td>...</td>\n",
       "      <td>...</td>\n",
       "      <td>...</td>\n",
       "      <td>...</td>\n",
       "      <td>...</td>\n",
       "      <td>...</td>\n",
       "      <td>...</td>\n",
       "      <td>...</td>\n",
       "    </tr>\n",
       "    <tr>\n",
       "      <th>2261</th>\n",
       "      <td>1498</td>\n",
       "      <td>12</td>\n",
       "      <td>39.0</td>\n",
       "      <td>339.0</td>\n",
       "      <td>0.0</td>\n",
       "      <td>23.0</td>\n",
       "      <td>surf</td>\n",
       "      <td>50</td>\n",
       "      <td>15360</td>\n",
       "      <td>500</td>\n",
       "      <td>20</td>\n",
       "      <td>10</td>\n",
       "      <td>0.03</td>\n",
       "      <td>0.03</td>\n",
       "    </tr>\n",
       "    <tr>\n",
       "      <th>2262</th>\n",
       "      <td>1499</td>\n",
       "      <td>9</td>\n",
       "      <td>41.0</td>\n",
       "      <td>346.0</td>\n",
       "      <td>0.0</td>\n",
       "      <td>13.0</td>\n",
       "      <td>surf</td>\n",
       "      <td>50</td>\n",
       "      <td>15360</td>\n",
       "      <td>500</td>\n",
       "      <td>20</td>\n",
       "      <td>10</td>\n",
       "      <td>0.03</td>\n",
       "      <td>0.03</td>\n",
       "    </tr>\n",
       "    <tr>\n",
       "      <th>2263</th>\n",
       "      <td>1499</td>\n",
       "      <td>10</td>\n",
       "      <td>53.0</td>\n",
       "      <td>385.0</td>\n",
       "      <td>0.0</td>\n",
       "      <td>20.0</td>\n",
       "      <td>surf</td>\n",
       "      <td>50</td>\n",
       "      <td>15360</td>\n",
       "      <td>500</td>\n",
       "      <td>20</td>\n",
       "      <td>10</td>\n",
       "      <td>0.03</td>\n",
       "      <td>0.03</td>\n",
       "    </tr>\n",
       "    <tr>\n",
       "      <th>2265</th>\n",
       "      <td>1499</td>\n",
       "      <td>12</td>\n",
       "      <td>65.0</td>\n",
       "      <td>496.0</td>\n",
       "      <td>0.0</td>\n",
       "      <td>22.0</td>\n",
       "      <td>surf</td>\n",
       "      <td>50</td>\n",
       "      <td>15360</td>\n",
       "      <td>500</td>\n",
       "      <td>20</td>\n",
       "      <td>10</td>\n",
       "      <td>0.03</td>\n",
       "      <td>0.03</td>\n",
       "    </tr>\n",
       "    <tr>\n",
       "      <th>2264</th>\n",
       "      <td>1499</td>\n",
       "      <td>11</td>\n",
       "      <td>45.0</td>\n",
       "      <td>308.0</td>\n",
       "      <td>0.0</td>\n",
       "      <td>17.0</td>\n",
       "      <td>surf</td>\n",
       "      <td>50</td>\n",
       "      <td>15360</td>\n",
       "      <td>500</td>\n",
       "      <td>20</td>\n",
       "      <td>10</td>\n",
       "      <td>0.03</td>\n",
       "      <td>0.03</td>\n",
       "    </tr>\n",
       "  </tbody>\n",
       "</table>\n",
       "<p>2293 rows × 14 columns</p>\n",
       "</div>"
      ],
      "text/plain": [
       "      user_id  month  calls_used  minutes_used  sms_used  gb_used      plan  \\\n",
       "0        1000     12        16.0         124.0      11.0      2.0  ultimate   \n",
       "723      1001     11        64.0         426.0      36.0     19.0      surf   \n",
       "724      1001     12        56.0         412.0      44.0     19.0      surf   \n",
       "722      1001     10        65.0         393.0      53.0     22.0      surf   \n",
       "720      1001      8        27.0         182.0      30.0      7.0      surf   \n",
       "...       ...    ...         ...           ...       ...      ...       ...   \n",
       "2261     1498     12        39.0         339.0       0.0     23.0      surf   \n",
       "2262     1499      9        41.0         346.0       0.0     13.0      surf   \n",
       "2263     1499     10        53.0         385.0       0.0     20.0      surf   \n",
       "2265     1499     12        65.0         496.0       0.0     22.0      surf   \n",
       "2264     1499     11        45.0         308.0       0.0     17.0      surf   \n",
       "\n",
       "      messages_included  mb_per_month_included  minutes_included  \\\n",
       "0                  1000                  30720              3000   \n",
       "723                  50                  15360               500   \n",
       "724                  50                  15360               500   \n",
       "722                  50                  15360               500   \n",
       "720                  50                  15360               500   \n",
       "...                 ...                    ...               ...   \n",
       "2261                 50                  15360               500   \n",
       "2262                 50                  15360               500   \n",
       "2263                 50                  15360               500   \n",
       "2265                 50                  15360               500   \n",
       "2264                 50                  15360               500   \n",
       "\n",
       "      usd_monthly_pay  usd_per_gb  usd_per_message  usd_per_minute  \n",
       "0                  70           7             0.01            0.01  \n",
       "723                20          10             0.03            0.03  \n",
       "724                20          10             0.03            0.03  \n",
       "722                20          10             0.03            0.03  \n",
       "720                20          10             0.03            0.03  \n",
       "...               ...         ...              ...             ...  \n",
       "2261               20          10             0.03            0.03  \n",
       "2262               20          10             0.03            0.03  \n",
       "2263               20          10             0.03            0.03  \n",
       "2265               20          10             0.03            0.03  \n",
       "2264               20          10             0.03            0.03  \n",
       "\n",
       "[2293 rows x 14 columns]"
      ]
     },
     "execution_count": 35,
     "metadata": {},
     "output_type": "execute_result"
    }
   ],
   "source": [
    "users_resume"
   ]
  },
  {
   "cell_type": "markdown",
   "id": "8857eb64",
   "metadata": {},
   "source": [
    "Hemos agregado nuevas columnas de la tabla plans a nuestra tabla resumen. Estas columnas son:\n",
    "- messages_included\t\n",
    "- mb_per_month_included\t\n",
    "- minutes_included\t\n",
    "- usd_monthly_pay\t\n",
    "- usd_per_gb\n",
    "- usd_per_message\t\n",
    "- usd_per_minute\n",
    "\n",
    "varias columnas serán temporales porque se usarán para realizar cálculos.\n",
    "\n",
    "A continuación, renombraremos las nuevas columnas para tener una mejor vista a la tabla resumen."
   ]
  },
  {
   "cell_type": "code",
   "execution_count": 36,
   "id": "59166cd5",
   "metadata": {
    "ExecuteTime": {
     "end_time": "2023-01-05T13:45:25.292958Z",
     "start_time": "2023-01-05T13:45:25.285399Z"
    }
   },
   "outputs": [],
   "source": [
    "users_resume.rename({'messages_included': 'sms', \n",
    "                     'mb_per_month_included':'gb',\n",
    "                     'minutes_included': 'minutes',\n",
    "                     'usd_monthly_pay': 'price',\n",
    "                     'usd_per_gb': 'gb_price',\n",
    "                     'usd_per_message': 'sms_price',\n",
    "                     'usd_per_minute': 'minute_price'},\n",
    "                    axis=1,\n",
    "                   inplace=True)"
   ]
  },
  {
   "cell_type": "markdown",
   "id": "30fc98d1",
   "metadata": {},
   "source": [
    "Cambiamos Megabytes por Gigabytes"
   ]
  },
  {
   "cell_type": "code",
   "execution_count": 37,
   "id": "298f9e17",
   "metadata": {
    "ExecuteTime": {
     "end_time": "2023-01-05T13:45:25.305481Z",
     "start_time": "2023-01-05T13:45:25.295465Z"
    }
   },
   "outputs": [],
   "source": [
    "# transforma MB a GB \n",
    "users_resume['gb'] = users_resume['gb'].apply(lambda x: math.floor(x/1024))"
   ]
  },
  {
   "cell_type": "code",
   "execution_count": 38,
   "id": "61f2618e",
   "metadata": {
    "ExecuteTime": {
     "end_time": "2023-01-05T13:45:25.333584Z",
     "start_time": "2023-01-05T13:45:25.305481Z"
    },
    "scrolled": false
   },
   "outputs": [
    {
     "data": {
      "text/html": [
       "<div>\n",
       "<style scoped>\n",
       "    .dataframe tbody tr th:only-of-type {\n",
       "        vertical-align: middle;\n",
       "    }\n",
       "\n",
       "    .dataframe tbody tr th {\n",
       "        vertical-align: top;\n",
       "    }\n",
       "\n",
       "    .dataframe thead th {\n",
       "        text-align: right;\n",
       "    }\n",
       "</style>\n",
       "<table border=\"1\" class=\"dataframe\">\n",
       "  <thead>\n",
       "    <tr style=\"text-align: right;\">\n",
       "      <th></th>\n",
       "      <th>user_id</th>\n",
       "      <th>month</th>\n",
       "      <th>calls_used</th>\n",
       "      <th>minutes_used</th>\n",
       "      <th>sms_used</th>\n",
       "      <th>gb_used</th>\n",
       "      <th>plan</th>\n",
       "      <th>sms</th>\n",
       "      <th>gb</th>\n",
       "      <th>minutes</th>\n",
       "      <th>price</th>\n",
       "      <th>gb_price</th>\n",
       "      <th>sms_price</th>\n",
       "      <th>minute_price</th>\n",
       "    </tr>\n",
       "  </thead>\n",
       "  <tbody>\n",
       "    <tr>\n",
       "      <th>0</th>\n",
       "      <td>1000</td>\n",
       "      <td>12</td>\n",
       "      <td>16.0</td>\n",
       "      <td>124.0</td>\n",
       "      <td>11.0</td>\n",
       "      <td>2.0</td>\n",
       "      <td>ultimate</td>\n",
       "      <td>1000</td>\n",
       "      <td>30</td>\n",
       "      <td>3000</td>\n",
       "      <td>70</td>\n",
       "      <td>7</td>\n",
       "      <td>0.01</td>\n",
       "      <td>0.01</td>\n",
       "    </tr>\n",
       "    <tr>\n",
       "      <th>723</th>\n",
       "      <td>1001</td>\n",
       "      <td>11</td>\n",
       "      <td>64.0</td>\n",
       "      <td>426.0</td>\n",
       "      <td>36.0</td>\n",
       "      <td>19.0</td>\n",
       "      <td>surf</td>\n",
       "      <td>50</td>\n",
       "      <td>15</td>\n",
       "      <td>500</td>\n",
       "      <td>20</td>\n",
       "      <td>10</td>\n",
       "      <td>0.03</td>\n",
       "      <td>0.03</td>\n",
       "    </tr>\n",
       "    <tr>\n",
       "      <th>724</th>\n",
       "      <td>1001</td>\n",
       "      <td>12</td>\n",
       "      <td>56.0</td>\n",
       "      <td>412.0</td>\n",
       "      <td>44.0</td>\n",
       "      <td>19.0</td>\n",
       "      <td>surf</td>\n",
       "      <td>50</td>\n",
       "      <td>15</td>\n",
       "      <td>500</td>\n",
       "      <td>20</td>\n",
       "      <td>10</td>\n",
       "      <td>0.03</td>\n",
       "      <td>0.03</td>\n",
       "    </tr>\n",
       "    <tr>\n",
       "      <th>722</th>\n",
       "      <td>1001</td>\n",
       "      <td>10</td>\n",
       "      <td>65.0</td>\n",
       "      <td>393.0</td>\n",
       "      <td>53.0</td>\n",
       "      <td>22.0</td>\n",
       "      <td>surf</td>\n",
       "      <td>50</td>\n",
       "      <td>15</td>\n",
       "      <td>500</td>\n",
       "      <td>20</td>\n",
       "      <td>10</td>\n",
       "      <td>0.03</td>\n",
       "      <td>0.03</td>\n",
       "    </tr>\n",
       "    <tr>\n",
       "      <th>720</th>\n",
       "      <td>1001</td>\n",
       "      <td>8</td>\n",
       "      <td>27.0</td>\n",
       "      <td>182.0</td>\n",
       "      <td>30.0</td>\n",
       "      <td>7.0</td>\n",
       "      <td>surf</td>\n",
       "      <td>50</td>\n",
       "      <td>15</td>\n",
       "      <td>500</td>\n",
       "      <td>20</td>\n",
       "      <td>10</td>\n",
       "      <td>0.03</td>\n",
       "      <td>0.03</td>\n",
       "    </tr>\n",
       "    <tr>\n",
       "      <th>...</th>\n",
       "      <td>...</td>\n",
       "      <td>...</td>\n",
       "      <td>...</td>\n",
       "      <td>...</td>\n",
       "      <td>...</td>\n",
       "      <td>...</td>\n",
       "      <td>...</td>\n",
       "      <td>...</td>\n",
       "      <td>...</td>\n",
       "      <td>...</td>\n",
       "      <td>...</td>\n",
       "      <td>...</td>\n",
       "      <td>...</td>\n",
       "      <td>...</td>\n",
       "    </tr>\n",
       "    <tr>\n",
       "      <th>2261</th>\n",
       "      <td>1498</td>\n",
       "      <td>12</td>\n",
       "      <td>39.0</td>\n",
       "      <td>339.0</td>\n",
       "      <td>0.0</td>\n",
       "      <td>23.0</td>\n",
       "      <td>surf</td>\n",
       "      <td>50</td>\n",
       "      <td>15</td>\n",
       "      <td>500</td>\n",
       "      <td>20</td>\n",
       "      <td>10</td>\n",
       "      <td>0.03</td>\n",
       "      <td>0.03</td>\n",
       "    </tr>\n",
       "    <tr>\n",
       "      <th>2262</th>\n",
       "      <td>1499</td>\n",
       "      <td>9</td>\n",
       "      <td>41.0</td>\n",
       "      <td>346.0</td>\n",
       "      <td>0.0</td>\n",
       "      <td>13.0</td>\n",
       "      <td>surf</td>\n",
       "      <td>50</td>\n",
       "      <td>15</td>\n",
       "      <td>500</td>\n",
       "      <td>20</td>\n",
       "      <td>10</td>\n",
       "      <td>0.03</td>\n",
       "      <td>0.03</td>\n",
       "    </tr>\n",
       "    <tr>\n",
       "      <th>2263</th>\n",
       "      <td>1499</td>\n",
       "      <td>10</td>\n",
       "      <td>53.0</td>\n",
       "      <td>385.0</td>\n",
       "      <td>0.0</td>\n",
       "      <td>20.0</td>\n",
       "      <td>surf</td>\n",
       "      <td>50</td>\n",
       "      <td>15</td>\n",
       "      <td>500</td>\n",
       "      <td>20</td>\n",
       "      <td>10</td>\n",
       "      <td>0.03</td>\n",
       "      <td>0.03</td>\n",
       "    </tr>\n",
       "    <tr>\n",
       "      <th>2265</th>\n",
       "      <td>1499</td>\n",
       "      <td>12</td>\n",
       "      <td>65.0</td>\n",
       "      <td>496.0</td>\n",
       "      <td>0.0</td>\n",
       "      <td>22.0</td>\n",
       "      <td>surf</td>\n",
       "      <td>50</td>\n",
       "      <td>15</td>\n",
       "      <td>500</td>\n",
       "      <td>20</td>\n",
       "      <td>10</td>\n",
       "      <td>0.03</td>\n",
       "      <td>0.03</td>\n",
       "    </tr>\n",
       "    <tr>\n",
       "      <th>2264</th>\n",
       "      <td>1499</td>\n",
       "      <td>11</td>\n",
       "      <td>45.0</td>\n",
       "      <td>308.0</td>\n",
       "      <td>0.0</td>\n",
       "      <td>17.0</td>\n",
       "      <td>surf</td>\n",
       "      <td>50</td>\n",
       "      <td>15</td>\n",
       "      <td>500</td>\n",
       "      <td>20</td>\n",
       "      <td>10</td>\n",
       "      <td>0.03</td>\n",
       "      <td>0.03</td>\n",
       "    </tr>\n",
       "  </tbody>\n",
       "</table>\n",
       "<p>2293 rows × 14 columns</p>\n",
       "</div>"
      ],
      "text/plain": [
       "      user_id  month  calls_used  minutes_used  sms_used  gb_used      plan  \\\n",
       "0        1000     12        16.0         124.0      11.0      2.0  ultimate   \n",
       "723      1001     11        64.0         426.0      36.0     19.0      surf   \n",
       "724      1001     12        56.0         412.0      44.0     19.0      surf   \n",
       "722      1001     10        65.0         393.0      53.0     22.0      surf   \n",
       "720      1001      8        27.0         182.0      30.0      7.0      surf   \n",
       "...       ...    ...         ...           ...       ...      ...       ...   \n",
       "2261     1498     12        39.0         339.0       0.0     23.0      surf   \n",
       "2262     1499      9        41.0         346.0       0.0     13.0      surf   \n",
       "2263     1499     10        53.0         385.0       0.0     20.0      surf   \n",
       "2265     1499     12        65.0         496.0       0.0     22.0      surf   \n",
       "2264     1499     11        45.0         308.0       0.0     17.0      surf   \n",
       "\n",
       "       sms  gb  minutes  price  gb_price  sms_price  minute_price  \n",
       "0     1000  30     3000     70         7       0.01          0.01  \n",
       "723     50  15      500     20        10       0.03          0.03  \n",
       "724     50  15      500     20        10       0.03          0.03  \n",
       "722     50  15      500     20        10       0.03          0.03  \n",
       "720     50  15      500     20        10       0.03          0.03  \n",
       "...    ...  ..      ...    ...       ...        ...           ...  \n",
       "2261    50  15      500     20        10       0.03          0.03  \n",
       "2262    50  15      500     20        10       0.03          0.03  \n",
       "2263    50  15      500     20        10       0.03          0.03  \n",
       "2265    50  15      500     20        10       0.03          0.03  \n",
       "2264    50  15      500     20        10       0.03          0.03  \n",
       "\n",
       "[2293 rows x 14 columns]"
      ]
     },
     "execution_count": 38,
     "metadata": {},
     "output_type": "execute_result"
    }
   ],
   "source": [
    "users_resume"
   ]
  },
  {
   "cell_type": "markdown",
   "id": "7b9172d2",
   "metadata": {},
   "source": [
    "Realizaremos nuevos cálculos sobre recargos adicionales por uso de sms, minutos y datos"
   ]
  },
  {
   "cell_type": "code",
   "execution_count": 39,
   "id": "c2a446cd",
   "metadata": {
    "ExecuteTime": {
     "end_time": "2023-01-05T13:45:25.345531Z",
     "start_time": "2023-01-05T13:45:25.335092Z"
    },
    "scrolled": true
   },
   "outputs": [],
   "source": [
    "# agregamos columna de cargo por mensajes adicionales usados al mes\n",
    "users_resume['sms_charge'] = (users_resume['sms_used'] - users_resume['sms']) * users_resume['sms_price']\n",
    "users_resume['sms_charge'] = users_resume['sms_charge'].apply(lambda x: 0 if(x < 0) else x)"
   ]
  },
  {
   "cell_type": "code",
   "execution_count": 40,
   "id": "b6643add",
   "metadata": {
    "ExecuteTime": {
     "end_time": "2023-01-05T13:45:25.358531Z",
     "start_time": "2023-01-05T13:45:25.345531Z"
    },
    "scrolled": false
   },
   "outputs": [],
   "source": [
    "# agregamos columna de cargo por minutos adicionales usados al mes\n",
    "users_resume['min_charge'] = (users_resume['minutes_used'] - users_resume['minutes']) * users_resume['minute_price']\n",
    "users_resume['min_charge'] = users_resume['min_charge'].apply(lambda x: 0 if(x < 0) else x)"
   ]
  },
  {
   "cell_type": "code",
   "execution_count": 41,
   "id": "4533c093",
   "metadata": {
    "ExecuteTime": {
     "end_time": "2023-01-05T13:45:25.375211Z",
     "start_time": "2023-01-05T13:45:25.358531Z"
    }
   },
   "outputs": [],
   "source": [
    "# agregamos columna de cargo por datos en GB adicionales usados al mes\n",
    "users_resume['gb_charge'] = (users_resume['gb_used'] - users_resume['gb']) * users_resume['gb_price']\n",
    "users_resume['gb_charge'] = users_resume['gb_charge'].apply(lambda x: 0 if(x < 0) else x)"
   ]
  },
  {
   "cell_type": "code",
   "execution_count": 42,
   "id": "9f71f5a0",
   "metadata": {
    "ExecuteTime": {
     "end_time": "2023-01-05T13:45:25.383480Z",
     "start_time": "2023-01-05T13:45:25.375211Z"
    }
   },
   "outputs": [],
   "source": [
    "# agregamos columna de surcharge con el total de recargo adicional \n",
    "users_resume['surcharge'] = users_resume['sms_charge'] + users_resume['min_charge'] + users_resume['gb_charge']"
   ]
  },
  {
   "cell_type": "code",
   "execution_count": 43,
   "id": "31ead84e",
   "metadata": {
    "ExecuteTime": {
     "end_time": "2023-01-05T13:45:25.395219Z",
     "start_time": "2023-01-05T13:45:25.385503Z"
    }
   },
   "outputs": [],
   "source": [
    "# agregamos columna full_charge con el total a pagar mensual por usuario (valor del plan + recargo)\n",
    "users_resume['full_charge'] = users_resume['surcharge'] + users_resume['price']"
   ]
  },
  {
   "cell_type": "code",
   "execution_count": 44,
   "id": "03b4d497",
   "metadata": {
    "ExecuteTime": {
     "end_time": "2023-01-05T13:45:25.428718Z",
     "start_time": "2023-01-05T13:45:25.395219Z"
    }
   },
   "outputs": [
    {
     "data": {
      "text/html": [
       "<div>\n",
       "<style scoped>\n",
       "    .dataframe tbody tr th:only-of-type {\n",
       "        vertical-align: middle;\n",
       "    }\n",
       "\n",
       "    .dataframe tbody tr th {\n",
       "        vertical-align: top;\n",
       "    }\n",
       "\n",
       "    .dataframe thead th {\n",
       "        text-align: right;\n",
       "    }\n",
       "</style>\n",
       "<table border=\"1\" class=\"dataframe\">\n",
       "  <thead>\n",
       "    <tr style=\"text-align: right;\">\n",
       "      <th></th>\n",
       "      <th>user_id</th>\n",
       "      <th>month</th>\n",
       "      <th>calls_used</th>\n",
       "      <th>minutes_used</th>\n",
       "      <th>sms_used</th>\n",
       "      <th>gb_used</th>\n",
       "      <th>plan</th>\n",
       "      <th>sms</th>\n",
       "      <th>gb</th>\n",
       "      <th>minutes</th>\n",
       "      <th>price</th>\n",
       "      <th>gb_price</th>\n",
       "      <th>sms_price</th>\n",
       "      <th>minute_price</th>\n",
       "      <th>sms_charge</th>\n",
       "      <th>min_charge</th>\n",
       "      <th>gb_charge</th>\n",
       "      <th>surcharge</th>\n",
       "      <th>full_charge</th>\n",
       "    </tr>\n",
       "  </thead>\n",
       "  <tbody>\n",
       "    <tr>\n",
       "      <th>0</th>\n",
       "      <td>1000</td>\n",
       "      <td>12</td>\n",
       "      <td>16.0</td>\n",
       "      <td>124.0</td>\n",
       "      <td>11.0</td>\n",
       "      <td>2.0</td>\n",
       "      <td>ultimate</td>\n",
       "      <td>1000</td>\n",
       "      <td>30</td>\n",
       "      <td>3000</td>\n",
       "      <td>70</td>\n",
       "      <td>7</td>\n",
       "      <td>0.01</td>\n",
       "      <td>0.01</td>\n",
       "      <td>0.00</td>\n",
       "      <td>0.0</td>\n",
       "      <td>0.0</td>\n",
       "      <td>0.00</td>\n",
       "      <td>70.00</td>\n",
       "    </tr>\n",
       "    <tr>\n",
       "      <th>723</th>\n",
       "      <td>1001</td>\n",
       "      <td>11</td>\n",
       "      <td>64.0</td>\n",
       "      <td>426.0</td>\n",
       "      <td>36.0</td>\n",
       "      <td>19.0</td>\n",
       "      <td>surf</td>\n",
       "      <td>50</td>\n",
       "      <td>15</td>\n",
       "      <td>500</td>\n",
       "      <td>20</td>\n",
       "      <td>10</td>\n",
       "      <td>0.03</td>\n",
       "      <td>0.03</td>\n",
       "      <td>0.00</td>\n",
       "      <td>0.0</td>\n",
       "      <td>40.0</td>\n",
       "      <td>40.00</td>\n",
       "      <td>60.00</td>\n",
       "    </tr>\n",
       "    <tr>\n",
       "      <th>724</th>\n",
       "      <td>1001</td>\n",
       "      <td>12</td>\n",
       "      <td>56.0</td>\n",
       "      <td>412.0</td>\n",
       "      <td>44.0</td>\n",
       "      <td>19.0</td>\n",
       "      <td>surf</td>\n",
       "      <td>50</td>\n",
       "      <td>15</td>\n",
       "      <td>500</td>\n",
       "      <td>20</td>\n",
       "      <td>10</td>\n",
       "      <td>0.03</td>\n",
       "      <td>0.03</td>\n",
       "      <td>0.00</td>\n",
       "      <td>0.0</td>\n",
       "      <td>40.0</td>\n",
       "      <td>40.00</td>\n",
       "      <td>60.00</td>\n",
       "    </tr>\n",
       "    <tr>\n",
       "      <th>722</th>\n",
       "      <td>1001</td>\n",
       "      <td>10</td>\n",
       "      <td>65.0</td>\n",
       "      <td>393.0</td>\n",
       "      <td>53.0</td>\n",
       "      <td>22.0</td>\n",
       "      <td>surf</td>\n",
       "      <td>50</td>\n",
       "      <td>15</td>\n",
       "      <td>500</td>\n",
       "      <td>20</td>\n",
       "      <td>10</td>\n",
       "      <td>0.03</td>\n",
       "      <td>0.03</td>\n",
       "      <td>0.09</td>\n",
       "      <td>0.0</td>\n",
       "      <td>70.0</td>\n",
       "      <td>70.09</td>\n",
       "      <td>90.09</td>\n",
       "    </tr>\n",
       "    <tr>\n",
       "      <th>720</th>\n",
       "      <td>1001</td>\n",
       "      <td>8</td>\n",
       "      <td>27.0</td>\n",
       "      <td>182.0</td>\n",
       "      <td>30.0</td>\n",
       "      <td>7.0</td>\n",
       "      <td>surf</td>\n",
       "      <td>50</td>\n",
       "      <td>15</td>\n",
       "      <td>500</td>\n",
       "      <td>20</td>\n",
       "      <td>10</td>\n",
       "      <td>0.03</td>\n",
       "      <td>0.03</td>\n",
       "      <td>0.00</td>\n",
       "      <td>0.0</td>\n",
       "      <td>0.0</td>\n",
       "      <td>0.00</td>\n",
       "      <td>20.00</td>\n",
       "    </tr>\n",
       "    <tr>\n",
       "      <th>...</th>\n",
       "      <td>...</td>\n",
       "      <td>...</td>\n",
       "      <td>...</td>\n",
       "      <td>...</td>\n",
       "      <td>...</td>\n",
       "      <td>...</td>\n",
       "      <td>...</td>\n",
       "      <td>...</td>\n",
       "      <td>...</td>\n",
       "      <td>...</td>\n",
       "      <td>...</td>\n",
       "      <td>...</td>\n",
       "      <td>...</td>\n",
       "      <td>...</td>\n",
       "      <td>...</td>\n",
       "      <td>...</td>\n",
       "      <td>...</td>\n",
       "      <td>...</td>\n",
       "      <td>...</td>\n",
       "    </tr>\n",
       "    <tr>\n",
       "      <th>2261</th>\n",
       "      <td>1498</td>\n",
       "      <td>12</td>\n",
       "      <td>39.0</td>\n",
       "      <td>339.0</td>\n",
       "      <td>0.0</td>\n",
       "      <td>23.0</td>\n",
       "      <td>surf</td>\n",
       "      <td>50</td>\n",
       "      <td>15</td>\n",
       "      <td>500</td>\n",
       "      <td>20</td>\n",
       "      <td>10</td>\n",
       "      <td>0.03</td>\n",
       "      <td>0.03</td>\n",
       "      <td>0.00</td>\n",
       "      <td>0.0</td>\n",
       "      <td>80.0</td>\n",
       "      <td>80.00</td>\n",
       "      <td>100.00</td>\n",
       "    </tr>\n",
       "    <tr>\n",
       "      <th>2262</th>\n",
       "      <td>1499</td>\n",
       "      <td>9</td>\n",
       "      <td>41.0</td>\n",
       "      <td>346.0</td>\n",
       "      <td>0.0</td>\n",
       "      <td>13.0</td>\n",
       "      <td>surf</td>\n",
       "      <td>50</td>\n",
       "      <td>15</td>\n",
       "      <td>500</td>\n",
       "      <td>20</td>\n",
       "      <td>10</td>\n",
       "      <td>0.03</td>\n",
       "      <td>0.03</td>\n",
       "      <td>0.00</td>\n",
       "      <td>0.0</td>\n",
       "      <td>0.0</td>\n",
       "      <td>0.00</td>\n",
       "      <td>20.00</td>\n",
       "    </tr>\n",
       "    <tr>\n",
       "      <th>2263</th>\n",
       "      <td>1499</td>\n",
       "      <td>10</td>\n",
       "      <td>53.0</td>\n",
       "      <td>385.0</td>\n",
       "      <td>0.0</td>\n",
       "      <td>20.0</td>\n",
       "      <td>surf</td>\n",
       "      <td>50</td>\n",
       "      <td>15</td>\n",
       "      <td>500</td>\n",
       "      <td>20</td>\n",
       "      <td>10</td>\n",
       "      <td>0.03</td>\n",
       "      <td>0.03</td>\n",
       "      <td>0.00</td>\n",
       "      <td>0.0</td>\n",
       "      <td>50.0</td>\n",
       "      <td>50.00</td>\n",
       "      <td>70.00</td>\n",
       "    </tr>\n",
       "    <tr>\n",
       "      <th>2265</th>\n",
       "      <td>1499</td>\n",
       "      <td>12</td>\n",
       "      <td>65.0</td>\n",
       "      <td>496.0</td>\n",
       "      <td>0.0</td>\n",
       "      <td>22.0</td>\n",
       "      <td>surf</td>\n",
       "      <td>50</td>\n",
       "      <td>15</td>\n",
       "      <td>500</td>\n",
       "      <td>20</td>\n",
       "      <td>10</td>\n",
       "      <td>0.03</td>\n",
       "      <td>0.03</td>\n",
       "      <td>0.00</td>\n",
       "      <td>0.0</td>\n",
       "      <td>70.0</td>\n",
       "      <td>70.00</td>\n",
       "      <td>90.00</td>\n",
       "    </tr>\n",
       "    <tr>\n",
       "      <th>2264</th>\n",
       "      <td>1499</td>\n",
       "      <td>11</td>\n",
       "      <td>45.0</td>\n",
       "      <td>308.0</td>\n",
       "      <td>0.0</td>\n",
       "      <td>17.0</td>\n",
       "      <td>surf</td>\n",
       "      <td>50</td>\n",
       "      <td>15</td>\n",
       "      <td>500</td>\n",
       "      <td>20</td>\n",
       "      <td>10</td>\n",
       "      <td>0.03</td>\n",
       "      <td>0.03</td>\n",
       "      <td>0.00</td>\n",
       "      <td>0.0</td>\n",
       "      <td>20.0</td>\n",
       "      <td>20.00</td>\n",
       "      <td>40.00</td>\n",
       "    </tr>\n",
       "  </tbody>\n",
       "</table>\n",
       "<p>2293 rows × 19 columns</p>\n",
       "</div>"
      ],
      "text/plain": [
       "      user_id  month  calls_used  minutes_used  sms_used  gb_used      plan  \\\n",
       "0        1000     12        16.0         124.0      11.0      2.0  ultimate   \n",
       "723      1001     11        64.0         426.0      36.0     19.0      surf   \n",
       "724      1001     12        56.0         412.0      44.0     19.0      surf   \n",
       "722      1001     10        65.0         393.0      53.0     22.0      surf   \n",
       "720      1001      8        27.0         182.0      30.0      7.0      surf   \n",
       "...       ...    ...         ...           ...       ...      ...       ...   \n",
       "2261     1498     12        39.0         339.0       0.0     23.0      surf   \n",
       "2262     1499      9        41.0         346.0       0.0     13.0      surf   \n",
       "2263     1499     10        53.0         385.0       0.0     20.0      surf   \n",
       "2265     1499     12        65.0         496.0       0.0     22.0      surf   \n",
       "2264     1499     11        45.0         308.0       0.0     17.0      surf   \n",
       "\n",
       "       sms  gb  minutes  price  gb_price  sms_price  minute_price  sms_charge  \\\n",
       "0     1000  30     3000     70         7       0.01          0.01        0.00   \n",
       "723     50  15      500     20        10       0.03          0.03        0.00   \n",
       "724     50  15      500     20        10       0.03          0.03        0.00   \n",
       "722     50  15      500     20        10       0.03          0.03        0.09   \n",
       "720     50  15      500     20        10       0.03          0.03        0.00   \n",
       "...    ...  ..      ...    ...       ...        ...           ...         ...   \n",
       "2261    50  15      500     20        10       0.03          0.03        0.00   \n",
       "2262    50  15      500     20        10       0.03          0.03        0.00   \n",
       "2263    50  15      500     20        10       0.03          0.03        0.00   \n",
       "2265    50  15      500     20        10       0.03          0.03        0.00   \n",
       "2264    50  15      500     20        10       0.03          0.03        0.00   \n",
       "\n",
       "      min_charge  gb_charge  surcharge  full_charge  \n",
       "0            0.0        0.0       0.00        70.00  \n",
       "723          0.0       40.0      40.00        60.00  \n",
       "724          0.0       40.0      40.00        60.00  \n",
       "722          0.0       70.0      70.09        90.09  \n",
       "720          0.0        0.0       0.00        20.00  \n",
       "...          ...        ...        ...          ...  \n",
       "2261         0.0       80.0      80.00       100.00  \n",
       "2262         0.0        0.0       0.00        20.00  \n",
       "2263         0.0       50.0      50.00        70.00  \n",
       "2265         0.0       70.0      70.00        90.00  \n",
       "2264         0.0       20.0      20.00        40.00  \n",
       "\n",
       "[2293 rows x 19 columns]"
      ]
     },
     "execution_count": 44,
     "metadata": {},
     "output_type": "execute_result"
    }
   ],
   "source": [
    "users_resume"
   ]
  },
  {
   "cell_type": "code",
   "execution_count": 45,
   "id": "4820d804",
   "metadata": {
    "ExecuteTime": {
     "end_time": "2023-01-05T13:45:25.445396Z",
     "start_time": "2023-01-05T13:45:25.428718Z"
    }
   },
   "outputs": [],
   "source": [
    "# eliminamos columnas innecesaria\n",
    "users_resume.drop(columns=['sms', 'gb', 'minutes', 'price', \n",
    "                           'sms_price', 'gb_price', 'minute_price', 'sms_price',\n",
    "                           'sms_charge', 'gb_charge', 'min_charge', 'surcharge'], \n",
    "                  inplace=True)"
   ]
  },
  {
   "cell_type": "code",
   "execution_count": 46,
   "id": "d76031d4",
   "metadata": {
    "ExecuteTime": {
     "end_time": "2023-01-05T13:45:25.461502Z",
     "start_time": "2023-01-05T13:45:25.450402Z"
    }
   },
   "outputs": [],
   "source": [
    "# agregamos ciudad a la tabla puesto que usaremos esta información en la hipótesis.\n",
    "users_resume = users_resume.merge(users[['user_id','city']], on='user_id')"
   ]
  },
  {
   "cell_type": "code",
   "execution_count": 47,
   "id": "f567c7db",
   "metadata": {
    "ExecuteTime": {
     "end_time": "2023-01-05T13:45:25.475180Z",
     "start_time": "2023-01-05T13:45:25.461502Z"
    }
   },
   "outputs": [],
   "source": [
    "# hacemos mas cortas las ciudades\n",
    "#users_resume['city'] = users_resume['city'].str.split(',').str.get(1)"
   ]
  },
  {
   "cell_type": "code",
   "execution_count": 48,
   "id": "a954d623",
   "metadata": {
    "ExecuteTime": {
     "end_time": "2023-01-05T13:45:25.493544Z",
     "start_time": "2023-01-05T13:45:25.475180Z"
    }
   },
   "outputs": [],
   "source": [
    "# eliminamos espacios en blanco al principio de la columna city\n",
    "users_resume['city'] = users_resume['city'].str.strip()"
   ]
  },
  {
   "cell_type": "code",
   "execution_count": 49,
   "id": "132f9801",
   "metadata": {
    "ExecuteTime": {
     "end_time": "2023-01-05T13:45:25.518772Z",
     "start_time": "2023-01-05T13:45:25.495550Z"
    }
   },
   "outputs": [
    {
     "data": {
      "text/html": [
       "<div>\n",
       "<style scoped>\n",
       "    .dataframe tbody tr th:only-of-type {\n",
       "        vertical-align: middle;\n",
       "    }\n",
       "\n",
       "    .dataframe tbody tr th {\n",
       "        vertical-align: top;\n",
       "    }\n",
       "\n",
       "    .dataframe thead th {\n",
       "        text-align: right;\n",
       "    }\n",
       "</style>\n",
       "<table border=\"1\" class=\"dataframe\">\n",
       "  <thead>\n",
       "    <tr style=\"text-align: right;\">\n",
       "      <th></th>\n",
       "      <th>user_id</th>\n",
       "      <th>month</th>\n",
       "      <th>calls_used</th>\n",
       "      <th>minutes_used</th>\n",
       "      <th>sms_used</th>\n",
       "      <th>gb_used</th>\n",
       "      <th>plan</th>\n",
       "      <th>full_charge</th>\n",
       "      <th>city</th>\n",
       "    </tr>\n",
       "  </thead>\n",
       "  <tbody>\n",
       "    <tr>\n",
       "      <th>0</th>\n",
       "      <td>1000</td>\n",
       "      <td>12</td>\n",
       "      <td>16.0</td>\n",
       "      <td>124.0</td>\n",
       "      <td>11.0</td>\n",
       "      <td>2.0</td>\n",
       "      <td>ultimate</td>\n",
       "      <td>70.00</td>\n",
       "      <td>Atlanta-Sandy Springs-Roswell, GA MSA</td>\n",
       "    </tr>\n",
       "    <tr>\n",
       "      <th>1</th>\n",
       "      <td>1001</td>\n",
       "      <td>11</td>\n",
       "      <td>64.0</td>\n",
       "      <td>426.0</td>\n",
       "      <td>36.0</td>\n",
       "      <td>19.0</td>\n",
       "      <td>surf</td>\n",
       "      <td>60.00</td>\n",
       "      <td>Seattle-Tacoma-Bellevue, WA MSA</td>\n",
       "    </tr>\n",
       "    <tr>\n",
       "      <th>2</th>\n",
       "      <td>1001</td>\n",
       "      <td>12</td>\n",
       "      <td>56.0</td>\n",
       "      <td>412.0</td>\n",
       "      <td>44.0</td>\n",
       "      <td>19.0</td>\n",
       "      <td>surf</td>\n",
       "      <td>60.00</td>\n",
       "      <td>Seattle-Tacoma-Bellevue, WA MSA</td>\n",
       "    </tr>\n",
       "    <tr>\n",
       "      <th>3</th>\n",
       "      <td>1001</td>\n",
       "      <td>10</td>\n",
       "      <td>65.0</td>\n",
       "      <td>393.0</td>\n",
       "      <td>53.0</td>\n",
       "      <td>22.0</td>\n",
       "      <td>surf</td>\n",
       "      <td>90.09</td>\n",
       "      <td>Seattle-Tacoma-Bellevue, WA MSA</td>\n",
       "    </tr>\n",
       "    <tr>\n",
       "      <th>4</th>\n",
       "      <td>1001</td>\n",
       "      <td>8</td>\n",
       "      <td>27.0</td>\n",
       "      <td>182.0</td>\n",
       "      <td>30.0</td>\n",
       "      <td>7.0</td>\n",
       "      <td>surf</td>\n",
       "      <td>20.00</td>\n",
       "      <td>Seattle-Tacoma-Bellevue, WA MSA</td>\n",
       "    </tr>\n",
       "    <tr>\n",
       "      <th>...</th>\n",
       "      <td>...</td>\n",
       "      <td>...</td>\n",
       "      <td>...</td>\n",
       "      <td>...</td>\n",
       "      <td>...</td>\n",
       "      <td>...</td>\n",
       "      <td>...</td>\n",
       "      <td>...</td>\n",
       "      <td>...</td>\n",
       "    </tr>\n",
       "    <tr>\n",
       "      <th>2288</th>\n",
       "      <td>1498</td>\n",
       "      <td>12</td>\n",
       "      <td>39.0</td>\n",
       "      <td>339.0</td>\n",
       "      <td>0.0</td>\n",
       "      <td>23.0</td>\n",
       "      <td>surf</td>\n",
       "      <td>100.00</td>\n",
       "      <td>New York-Newark-Jersey City, NY-NJ-PA MSA</td>\n",
       "    </tr>\n",
       "    <tr>\n",
       "      <th>2289</th>\n",
       "      <td>1499</td>\n",
       "      <td>9</td>\n",
       "      <td>41.0</td>\n",
       "      <td>346.0</td>\n",
       "      <td>0.0</td>\n",
       "      <td>13.0</td>\n",
       "      <td>surf</td>\n",
       "      <td>20.00</td>\n",
       "      <td>Orlando-Kissimmee-Sanford, FL MSA</td>\n",
       "    </tr>\n",
       "    <tr>\n",
       "      <th>2290</th>\n",
       "      <td>1499</td>\n",
       "      <td>10</td>\n",
       "      <td>53.0</td>\n",
       "      <td>385.0</td>\n",
       "      <td>0.0</td>\n",
       "      <td>20.0</td>\n",
       "      <td>surf</td>\n",
       "      <td>70.00</td>\n",
       "      <td>Orlando-Kissimmee-Sanford, FL MSA</td>\n",
       "    </tr>\n",
       "    <tr>\n",
       "      <th>2291</th>\n",
       "      <td>1499</td>\n",
       "      <td>12</td>\n",
       "      <td>65.0</td>\n",
       "      <td>496.0</td>\n",
       "      <td>0.0</td>\n",
       "      <td>22.0</td>\n",
       "      <td>surf</td>\n",
       "      <td>90.00</td>\n",
       "      <td>Orlando-Kissimmee-Sanford, FL MSA</td>\n",
       "    </tr>\n",
       "    <tr>\n",
       "      <th>2292</th>\n",
       "      <td>1499</td>\n",
       "      <td>11</td>\n",
       "      <td>45.0</td>\n",
       "      <td>308.0</td>\n",
       "      <td>0.0</td>\n",
       "      <td>17.0</td>\n",
       "      <td>surf</td>\n",
       "      <td>40.00</td>\n",
       "      <td>Orlando-Kissimmee-Sanford, FL MSA</td>\n",
       "    </tr>\n",
       "  </tbody>\n",
       "</table>\n",
       "<p>2293 rows × 9 columns</p>\n",
       "</div>"
      ],
      "text/plain": [
       "      user_id  month  calls_used  minutes_used  sms_used  gb_used      plan  \\\n",
       "0        1000     12        16.0         124.0      11.0      2.0  ultimate   \n",
       "1        1001     11        64.0         426.0      36.0     19.0      surf   \n",
       "2        1001     12        56.0         412.0      44.0     19.0      surf   \n",
       "3        1001     10        65.0         393.0      53.0     22.0      surf   \n",
       "4        1001      8        27.0         182.0      30.0      7.0      surf   \n",
       "...       ...    ...         ...           ...       ...      ...       ...   \n",
       "2288     1498     12        39.0         339.0       0.0     23.0      surf   \n",
       "2289     1499      9        41.0         346.0       0.0     13.0      surf   \n",
       "2290     1499     10        53.0         385.0       0.0     20.0      surf   \n",
       "2291     1499     12        65.0         496.0       0.0     22.0      surf   \n",
       "2292     1499     11        45.0         308.0       0.0     17.0      surf   \n",
       "\n",
       "      full_charge                                       city  \n",
       "0           70.00      Atlanta-Sandy Springs-Roswell, GA MSA  \n",
       "1           60.00            Seattle-Tacoma-Bellevue, WA MSA  \n",
       "2           60.00            Seattle-Tacoma-Bellevue, WA MSA  \n",
       "3           90.09            Seattle-Tacoma-Bellevue, WA MSA  \n",
       "4           20.00            Seattle-Tacoma-Bellevue, WA MSA  \n",
       "...           ...                                        ...  \n",
       "2288       100.00  New York-Newark-Jersey City, NY-NJ-PA MSA  \n",
       "2289        20.00          Orlando-Kissimmee-Sanford, FL MSA  \n",
       "2290        70.00          Orlando-Kissimmee-Sanford, FL MSA  \n",
       "2291        90.00          Orlando-Kissimmee-Sanford, FL MSA  \n",
       "2292        40.00          Orlando-Kissimmee-Sanford, FL MSA  \n",
       "\n",
       "[2293 rows x 9 columns]"
      ]
     },
     "execution_count": 49,
     "metadata": {},
     "output_type": "execute_result"
    }
   ],
   "source": [
    "# mostramos tabla\n",
    "users_resume"
   ]
  },
  {
   "cell_type": "markdown",
   "id": "fbf372e5",
   "metadata": {
    "ExecuteTime": {
     "end_time": "2022-12-29T19:23:09.843105Z",
     "start_time": "2022-12-29T19:23:09.827405Z"
    }
   },
   "source": [
    "Se realizaron los cálculos de recargos de consumos adicionales de sms, minutos y GB de datos: `sms_charge` , `minutes_charge`, `gb_charge`, y el total de recargo por los tres servicios está en `surcharge` y el valor total a pagar por cada cliente en cada mes en la columna `full_charge` que suma el recargo + valor del plan mensual. También se adicionó la columna city, que usaremos en la hipótesis más adelante. Y se borraron varias columnas temporales.\n",
    "\n",
    "Finalmente, nuestra tabla resumen está depurada, y ha quedado con las columnas necesarias. "
   ]
  },
  {
   "cell_type": "markdown",
   "id": "c5e3c3e8",
   "metadata": {},
   "source": [
    "# Análisis de datos<a id='ana'></a>"
   ]
  },
  {
   "cell_type": "markdown",
   "id": "4d911435",
   "metadata": {},
   "source": [
    "Empezamos, describiendo el comportamiento de los clientes a continuación:"
   ]
  },
  {
   "cell_type": "code",
   "execution_count": 50,
   "id": "41d976da",
   "metadata": {
    "ExecuteTime": {
     "end_time": "2023-01-05T13:45:25.535416Z",
     "start_time": "2023-01-05T13:45:25.518772Z"
    }
   },
   "outputs": [
    {
     "data": {
      "text/plain": [
       "surf        0.678\n",
       "ultimate    0.322\n",
       "Name: plan, dtype: float64"
      ]
     },
     "execution_count": 50,
     "metadata": {},
     "output_type": "execute_result"
    }
   ],
   "source": [
    "users.plan.value_counts(normalize=True)"
   ]
  },
  {
   "cell_type": "markdown",
   "id": "f989dc1b",
   "metadata": {},
   "source": [
    "En el 2018 el 68% de los usuarios contrataron el plan surf, mientras que el 32% contrataron el plan ultimate. \n",
    "\n",
    "Pero como fueron los consumos de los clientes de cada servicio: llamadas, mensajes y datos. Revisemos a continuación."
   ]
  },
  {
   "cell_type": "markdown",
   "id": "9a9db397",
   "metadata": {},
   "source": [
    "## Análisis de consumo de minutos que requieren los usuarios por mes"
   ]
  },
  {
   "cell_type": "code",
   "execution_count": 51,
   "id": "cd58b5a6",
   "metadata": {
    "ExecuteTime": {
     "end_time": "2023-01-05T13:45:25.777765Z",
     "start_time": "2023-01-05T13:45:25.535416Z"
    }
   },
   "outputs": [
    {
     "data": {
      "image/png": "[encoded data removed]",
      "text/plain": [
       "<Figure size 640x480 with 1 Axes>"
      ]
     },
     "metadata": {},
     "output_type": "display_data"
    }
   ],
   "source": [
    "# Mostramos uso de minutos por usuarios\n",
    "min_used_surf = users_resume.query('plan==\"surf\"')['minutes_used']\n",
    "min_used_ulti = users_resume.query('plan==\"ultimate\"')['minutes_used']\n",
    "\n",
    "plt.hist(min_used_surf, alpha=0.6, edgecolor ='black', label='surf', density=True)\n",
    "plt.hist(min_used_ulti, alpha=0.6, edgecolor ='black', label='ultimate', density=True)\n",
    "plt.title('Minutes used monthly by users of each plan')\n",
    "plt.legend()\n",
    "plt.xlabel('minutes')\n",
    "plt.ylabel('density user-month')\n",
    "plt.show()"
   ]
  },
  {
   "cell_type": "markdown",
   "id": "09c533ce",
   "metadata": {},
   "source": [
    "Los histogramas de Surf y Ultimate nos muestran que las distribuciones son asimétricas, los datos están sesgados a la derecha en ambos conjuntos de datos; son notables los datos atípicos altos, es decir existen pocos clientes con consumos de más de 1000 minutos al mes.\n",
    "\n",
    "En ambos planes el consumo de minutos que requieren los usuarios mensualmente es algo similar; en el pico más alto notamos que la mayoría de usuarios *Surf* consumen aproximadamente 400 minutos mensuales, y la mayoría de usuarios con plan *Ultimate* consumen 500 minutos mensuales."
   ]
  },
  {
   "cell_type": "code",
   "execution_count": 52,
   "id": "4f0aa1dd",
   "metadata": {
    "ExecuteTime": {
     "end_time": "2023-01-05T13:45:25.793767Z",
     "start_time": "2023-01-05T13:45:25.777765Z"
    }
   },
   "outputs": [
    {
     "name": "stdout",
     "output_type": "stream",
     "text": [
      "Minutes SURF\n",
      "mean: 429\n",
      "variance: 54933\n",
      "standard deviation: 234\n",
      "\n",
      "Minutes ULTIMATE\n",
      "mean: 430\n",
      "variance: 57764\n",
      "standard deviation: 240\n"
     ]
    }
   ],
   "source": [
    "# Calculamos el promedio, la varianza y la distribución estandar de nuestra distribución \n",
    "mean_min_surf = np.mean(min_used_surf).round(0).astype(int)\n",
    "var_min_surf  = np.var(min_used_surf).round(0).astype(int)\n",
    "std_min_surf  = np.std(min_used_surf).round(0).astype(int)\n",
    "\n",
    "mean_min_ulti = np.mean(min_used_ulti).round(0).astype(int)\n",
    "var_min_ulti  = np.var(min_used_ulti).round(0).astype(int)\n",
    "std_min_ulti  = np.std(min_used_ulti).round(0).astype(int)\n",
    "\n",
    "print('Minutes SURF')\n",
    "print('mean:', mean_min_surf)\n",
    "print('variance:', var_min_surf)\n",
    "print('standard deviation:', std_min_surf)\n",
    "print()\n",
    "print('Minutes ULTIMATE')\n",
    "print('mean:', mean_min_ulti)\n",
    "print('variance:', var_min_ulti)\n",
    "print('standard deviation:', std_min_ulti)\n"
   ]
  },
  {
   "cell_type": "markdown",
   "id": "4beb41d2",
   "metadata": {},
   "source": [
    "El consumo promedio de minutos de usuarios *Surf* es de 429 y el de *Ultimate* es de 430, muy similar.\n",
    "\n",
    "De acuerdo a las desviaciones estándar calculadas / varianzas podemos notar que los minutos usados por los usuarios *Ultimate* son un poco más dispersos que en los usuarios *Surf*"
   ]
  },
  {
   "cell_type": "markdown",
   "id": "381a697b",
   "metadata": {},
   "source": [
    "## Análisis de consumo de mensajes de texto que requieren los usuarios por mes"
   ]
  },
  {
   "cell_type": "code",
   "execution_count": 53,
   "id": "0e92ff4b",
   "metadata": {
    "ExecuteTime": {
     "end_time": "2023-01-05T13:45:26.060729Z",
     "start_time": "2023-01-05T13:45:25.796413Z"
    }
   },
   "outputs": [
    {
     "data": {
      "image/png": "[encoded data removed]",
      "text/plain": [
       "<Figure size 640x480 with 1 Axes>"
      ]
     },
     "metadata": {},
     "output_type": "display_data"
    }
   ],
   "source": [
    "# Mostramos uso de sms por usuarios\n",
    "sms_used_surf = users_resume.query('plan == \"surf\"')['sms_used']\n",
    "sms_used_ulti = users_resume.query('plan == \"ultimate\"')['sms_used']\n",
    "\n",
    "plt.hist(sms_used_surf, alpha=0.6,  edgecolor ='black', label='surf', density=True)\n",
    "plt.hist(sms_used_ulti, alpha=0.6,  edgecolor ='black', label='ultimate', density=True)\n",
    "plt.title('SMS used monthly by users of each plan')\n",
    "plt.legend()\n",
    "plt.xlabel('messages')\n",
    "plt.ylabel('density user-month')\n",
    "plt.show()"
   ]
  },
  {
   "cell_type": "markdown",
   "id": "c909e793",
   "metadata": {},
   "source": [
    "Los histogramas de *Surf* y *Ultimate* nos muestran que las distribuciones son asimétricas, los datos están sesgados totalmente a la derecha en ambos conjuntos de datos; son notables los datos atípicos altos, es decir existen clientes con consumos de más de 100 minutos al mes.\n",
    "\n",
    "El comportamiento de la mayoría de usuarios es similar en ambos planes, usan pocos mensajes de texto; la mayoría de usuarios *Surf*  consumen al menos 10 mensajes mensuales y la mayoría de usuarios *Ultimate* consumen al menos 20 mensajes de texto mensuales."
   ]
  },
  {
   "cell_type": "code",
   "execution_count": 54,
   "id": "019794b0",
   "metadata": {
    "ExecuteTime": {
     "end_time": "2023-01-05T13:45:26.078589Z",
     "start_time": "2023-01-05T13:45:26.061736Z"
    }
   },
   "outputs": [
    {
     "name": "stdout",
     "output_type": "stream",
     "text": [
      "SMS SURF\n",
      "mean: 31\n",
      "variance: 1126\n",
      "standard deviation: 34\n",
      "\n",
      "SMS ULTIMATE\n",
      "mean: 38\n",
      "variance: 1207\n",
      "standard deviation: 35\n"
     ]
    }
   ],
   "source": [
    "mean_sms_surf = np.mean(sms_used_surf).round(0).astype(int)\n",
    "var_sms_surf  = np.var(sms_used_surf).round(0).astype(int)\n",
    "std_sms_surf  = np.std(sms_used_surf).round(0).astype(int)\n",
    "\n",
    "mean_sms_ulti = np.mean(sms_used_ulti).round(0).astype(int)\n",
    "var_sms_ulti  = np.var(sms_used_ulti).round(0).astype(int)\n",
    "std_sms_ulti  = np.std(sms_used_ulti).round(0).astype(int)\n",
    "\n",
    "print('SMS SURF')\n",
    "print('mean:', mean_sms_surf)\n",
    "print('variance:', var_sms_surf)\n",
    "print('standard deviation:', std_sms_surf)\n",
    "print()\n",
    "print('SMS ULTIMATE')\n",
    "print('mean:', mean_sms_ulti)\n",
    "print('variance:', var_sms_ulti)\n",
    "print('standard deviation:', std_sms_ulti)\n"
   ]
  },
  {
   "cell_type": "markdown",
   "id": "f203a881",
   "metadata": {},
   "source": [
    "El consumo promedio de mensajes de texto de usuarios *Surf* es de 31 y el de *Ultimate* es de 38, no muy diferentes.\n",
    "\n",
    "De acuerdo a las desviaciones estándar calculadas / varianzas podemos notar que los mensajes de texto usados por los usuarios *Ultimate* se dispersan de manera similar a los usuarios *Surf*"
   ]
  },
  {
   "cell_type": "markdown",
   "id": "49047519",
   "metadata": {},
   "source": [
    "## Análisis de consumo de datos (Gigabytes) que requieren los usuarios por mes"
   ]
  },
  {
   "cell_type": "code",
   "execution_count": 55,
   "id": "0c2baa73",
   "metadata": {
    "ExecuteTime": {
     "end_time": "2023-01-05T13:45:26.291865Z",
     "start_time": "2023-01-05T13:45:26.078589Z"
    }
   },
   "outputs": [
    {
     "data": {
      "image/png": "[encoded data removed]",
      "text/plain": [
       "<Figure size 640x480 with 1 Axes>"
      ]
     },
     "metadata": {},
     "output_type": "display_data"
    }
   ],
   "source": [
    "# Mostramos uso de GB por usuarios\n",
    "gb_used_surf = users_resume.query('plan == \"surf\"')['gb_used']\n",
    "gb_used_ulti = users_resume.query('plan == \"ultimate\"')['gb_used']\n",
    "\n",
    "plt.hist(gb_used_surf, alpha=0.6, edgecolor ='black', label='surf', density=True)\n",
    "plt.hist(gb_used_ulti, alpha=0.6, edgecolor ='black', label='ultimate', density=True)\n",
    "plt.title('GB used monthly by users of each plan')\n",
    "plt.legend()\n",
    "plt.xlabel('GB')\n",
    "plt.ylabel('density user per month')\n",
    "plt.show()"
   ]
  },
  {
   "cell_type": "markdown",
   "id": "735b53f2",
   "metadata": {},
   "source": [
    "Los histogramas de *Surf* y *Ultimate* nos muestran que las distribuciones casi normales, con un leve sesgo a la derecha en ambos conjuntos de datos; aparecen valores atípicos altos, es decir existen pocos clientes con consumos de más de 40 Gibabytes de datos al mes.\n",
    "\n",
    "El comportamiento de los usuarios es similar para *Surf* y *Ultimate* el pico más alto en ambos casos nos dice que la mayoría de usuarios requieren unos 17 Gigabytes de datos para navegar en internet."
   ]
  },
  {
   "cell_type": "code",
   "execution_count": 56,
   "id": "ee5177f2",
   "metadata": {
    "ExecuteTime": {
     "end_time": "2023-01-05T13:45:26.315540Z",
     "start_time": "2023-01-05T13:45:26.293498Z"
    }
   },
   "outputs": [
    {
     "name": "stdout",
     "output_type": "stream",
     "text": [
      "Minutes SURF\n",
      "mean: 17\n",
      "variance: 62\n",
      "standard deviation: 8\n",
      "\n",
      "Minutes ULTIMATE\n",
      "mean: 17\n",
      "variance: 59\n",
      "standard deviation: 8\n"
     ]
    }
   ],
   "source": [
    "# Calculamos el promedio, la varianza y la distribución estandar de nuestra distribución \n",
    "\n",
    "mean_gb_surf = np.mean(gb_used_surf).round(0).astype(int)\n",
    "var_gb_surf  = np.var(gb_used_surf).round(0).astype(int)\n",
    "std_gb_surf  = np.std(gb_used_surf).round(0).astype(int)\n",
    "\n",
    "mean_gb_ulti = np.mean(gb_used_ulti).round(0).astype(int)\n",
    "var_gb_ulti  = np.var(gb_used_ulti).round(0).astype(int)\n",
    "std_gb_ulti  = np.std(gb_used_ulti).round(0).astype(int)\n",
    "\n",
    "print('Minutes SURF')\n",
    "print('mean:', mean_gb_surf)\n",
    "print('variance:', var_gb_surf)\n",
    "print('standard deviation:', std_gb_surf)\n",
    "print()\n",
    "print('Minutes ULTIMATE')\n",
    "print('mean:', mean_gb_ulti)\n",
    "print('variance:', var_gb_ulti)\n",
    "print('standard deviation:', std_gb_ulti)\n"
   ]
  },
  {
   "cell_type": "markdown",
   "id": "55b2aae2",
   "metadata": {},
   "source": [
    "El consumo promedio de Gigabytes de datos de usuarios *Surf* y *Ultimate* es de 17, tal como nos muestra las distribuciones en los histogramas correspondientes.\n",
    "\n",
    "De acuerdo a las desviaciones estándar calculadas / varianzas podemos notar que los datos consumidos por los usuarios *Surf* y *Ultimate* se comportan igual, sus datos están dispersos de la misma manera en ambos planes."
   ]
  },
  {
   "cell_type": "markdown",
   "id": "1cfd80f6",
   "metadata": {},
   "source": [
    "# Prueba de hipótesis<a id='hip'></a>"
   ]
  },
  {
   "cell_type": "markdown",
   "id": "ef2197e5",
   "metadata": {},
   "source": [
    "## **Ingreso promedio de los usuarios de las tarifas Ultimate y Surf**\n",
    "\n",
    "Antes de empezar con la prueba de hipótesis resumiremos los ingresos totales en los usuarios con tarifa *Ultimate* y *Surf*."
   ]
  },
  {
   "cell_type": "code",
   "execution_count": 57,
   "id": "05d2f14d",
   "metadata": {
    "ExecuteTime": {
     "end_time": "2023-01-05T13:45:26.583917Z",
     "start_time": "2023-01-05T13:45:26.317706Z"
    }
   },
   "outputs": [
    {
     "data": {
      "image/png": "[encoded data removed]",
      "text/plain": [
       "<Figure size 640x480 with 1 Axes>"
      ]
     },
     "metadata": {},
     "output_type": "display_data"
    }
   ],
   "source": [
    "# Filtramos usuarios surf y ultimate\n",
    "surf = users_resume.query('plan == \"surf\"')['full_charge']\n",
    "ulti = users_resume.query('plan == \"ultimate\"')['full_charge']\n",
    "\n",
    "\n",
    "# histograma de total de ingresos de los usuarios en cada plan\n",
    "plt.hist(surf, alpha=0.5, label ='surf', ec ='black', density=True, range=(20, 300), bins=36)\n",
    "plt.hist(ulti, alpha=0.5, label='ultimate', ec ='black', density=True, range=(20, 300), bins=36)\n",
    "\n",
    "plt.legend()\n",
    "plt.title('Total income users Surf and Ultimate')\n",
    "plt.legend()\n",
    "plt.xlabel('income USD')\n",
    "plt.ylabel('users')\n",
    "\n",
    "plt.show()"
   ]
  },
  {
   "cell_type": "markdown",
   "id": "06985067",
   "metadata": {},
   "source": [
    "La mayoría de usuarios *Surf* pagan 20 USD y la mayoría de usuarios *Ultimate* pagan 70 USD, es decir la mayoría de los usuarios no pagan más de lo que cuesta el plan de cada tarifa base."
   ]
  },
  {
   "cell_type": "code",
   "execution_count": 58,
   "id": "d98282b3",
   "metadata": {
    "ExecuteTime": {
     "end_time": "2023-01-05T13:45:26.743495Z",
     "start_time": "2023-01-05T13:45:26.585425Z"
    },
    "scrolled": false
   },
   "outputs": [
    {
     "data": {
      "image/png": "[encoded data removed]",
      "text/plain": [
       "<Figure size 640x480 with 1 Axes>"
      ]
     },
     "metadata": {},
     "output_type": "display_data"
    }
   ],
   "source": [
    "# Cobros mensuales promedios de los usuarios en cada plan\n",
    "mean_charge_plan = users_resume.pivot_table(index='month', columns='plan', values='full_charge', aggfunc='mean')\n",
    "\n",
    "plt.plot(mean_charge_plan, label=['surf', 'ultimate'])\n",
    "plt.title('Total income per user monthly')\n",
    "plt.legend()\n",
    "plt.xlabel('user monthly')\n",
    "plt.ylabel('charge USD')\n",
    "plt.show()"
   ]
  },
  {
   "cell_type": "markdown",
   "id": "fca725b4",
   "metadata": {
    "ExecuteTime": {
     "end_time": "2023-01-02T14:06:19.672726Z",
     "start_time": "2023-01-02T14:06:19.657189Z"
    }
   },
   "source": [
    "Como dato adicional, podemos observar que el promedio de ingresos por los usuarios con el plan Ultimate tuvieron un comportamiento regular por los 70 USD en todo el año, notándose una variación desde febrero a junio un poco más alta en consumos, el resto del año el comportamiento es similar. \n",
    "\n",
    "Por otro lado los ingresos obtenidos de los usuarios con plan Surf es ascendente a medida que los meses transcurrieron, empezando desde el consumo base de 20 USD hasta los 70 USD en diciembre. Notablemente terminaron consumiendo más de los servicios que habían contratado."
   ]
  },
  {
   "cell_type": "markdown",
   "id": "a4c41933",
   "metadata": {},
   "source": [
    "### Prueba de hipótesis 1"
   ]
  },
  {
   "cell_type": "markdown",
   "id": "47887a69",
   "metadata": {},
   "source": [
    "A continuación realizaremos la formulación de hipótesis nula H0 e hipótesis alternativa Ha. El nivel de significancia será del 5% asumiendo que el nivel de confianza es del 95%.\n",
    "\n",
    "*  **H0: El ingreso promedio de los usuarios de las tarifas Ultimate y Surf son iguales**.\n",
    "*  Ha: El ingreso promedio de los usuarios de las tarifas Ultimate y Surf son diferentes.\n",
    "*  alpha 0.05"
   ]
  },
  {
   "cell_type": "code",
   "execution_count": 59,
   "id": "bfa8a510",
   "metadata": {
    "ExecuteTime": {
     "end_time": "2023-01-05T13:45:26.752391Z",
     "start_time": "2023-01-05T13:45:26.745499Z"
    }
   },
   "outputs": [
    {
     "name": "stdout",
     "output_type": "stream",
     "text": [
      "p-value:  2.862674510698644e-08\n",
      "Rechazamos la hipótesis nula\n"
     ]
    }
   ],
   "source": [
    "alpha = 0.05\n",
    "results = st.ttest_ind(surf, ulti)\n",
    "\n",
    "print('p-value: ', results.pvalue)\n",
    ", \n",
    "if results.pvalue < alpha:\n",
    "    print(\"Rechazamos la hipótesis nula\")\n",
    "else:\n",
    "    print(\"No rechazamos la hipótesis nula\")"
   ]
  },
  {
   "cell_type": "code",
   "execution_count": 60,
   "id": "8ea7ee0a",
   "metadata": {
    "ExecuteTime": {
     "end_time": "2023-01-05T13:45:26.795696Z",
     "start_time": "2023-01-05T13:45:26.755194Z"
    }
   },
   "outputs": [
    {
     "name": "stdout",
     "output_type": "stream",
     "text": [
      "Average income users Surf $ 60.71\n",
      "Average income users Ultimate $ 72.31\n"
     ]
    }
   ],
   "source": [
    "# promedios de ingresos de usuarios Surf y usuarios Ultimate\n",
    "print(f'Average income users Surf $ {surf.mean():.2f}')\n",
    "print(f'Average income users Ultimate $ {ulti.mean():.2f}')"
   ]
  },
  {
   "cell_type": "markdown",
   "id": "8d8f042b",
   "metadata": {},
   "source": [
    "Rechazamos la hipótesis nula, es decir podemos concluir que es falsa la hipótesis de que el ingreso promedio de los usuarios de las tarifas Ultimate y Surf son iguales. El ingreso promedio por usuarios Surf es de 60.71 USD y el ingreso promedio por usuarios Ultimate es de 72.31 USD."
   ]
  },
  {
   "cell_type": "markdown",
   "id": "0c4896ff",
   "metadata": {},
   "source": [
    "## Ingreso promedio de los usuarios en el área de estados Nueva York - Nueva Jersey y  usuarios de otras regiones\n",
    "\n",
    "Antes de empezar con la prueba de hipótesis 2, mostraremos los ingresos en los usuarios de estados New York-Newark Jersey y del resto de estados."
   ]
  },
  {
   "cell_type": "code",
   "execution_count": 61,
   "id": "b19d0e9f",
   "metadata": {
    "ExecuteTime": {
     "end_time": "2023-01-05T13:45:27.073026Z",
     "start_time": "2023-01-05T13:45:26.795696Z"
    }
   },
   "outputs": [
    {
     "data": {
      "image/png": "[encoded data removed]",
      "text/plain": [
       "<Figure size 640x480 with 1 Axes>"
      ]
     },
     "metadata": {},
     "output_type": "display_data"
    }
   ],
   "source": [
    "# Filtramos usuarios de NY-NJ y usuarios del resto de estados\n",
    "ny_nj  = users_resume.query('city == \"New York-Newark-Jersey City, NY-NJ-PA MSA\"')['full_charge']\n",
    "others = users_resume.query('city != \"New York-Newark-Jersey City, NY-NJ-PA MSA\"')['full_charge']\n",
    "\n",
    "# histograma de total de ingresos de los usuarios dentro y fuera del estado de New York-Newark Jersey.\n",
    "\n",
    "plt.hist(ny_nj, alpha=0.5, label ='New York-Newark-Jersey', ec ='black', density=True, range=(0, 350), bins=35)\n",
    "plt.hist(others, alpha=0.5, label='Others states', ec ='black', density=True, range=(0, 350), bins=35)\n",
    "\n",
    "plt.legend()\n",
    "plt.title('Average income in NY-NJ and others states')\n",
    "plt.legend()\n",
    "plt.xlabel('income USD')\n",
    "plt.ylabel('users')\n",
    "\n",
    "plt.show()"
   ]
  },
  {
   "cell_type": "markdown",
   "id": "149874fa",
   "metadata": {},
   "source": [
    "Resumiendo nuestro histograma, la mayoría de los usuarios de New York-Newark Jersey pagan entre 20 a 30 USD por consumos en sus planes. Y la mayoría de los usuarios de otras ciudades pagan entre 70 a 80 USD por el consumo de sus servicios."
   ]
  },
  {
   "cell_type": "code",
   "execution_count": 62,
   "id": "94fe4904",
   "metadata": {
    "ExecuteTime": {
     "end_time": "2023-01-05T13:45:27.253626Z",
     "start_time": "2023-01-05T13:45:27.073026Z"
    }
   },
   "outputs": [
    {
     "data": {
      "image/png": "[encoded data removed]",
      "text/plain": [
       "<Figure size 640x480 with 1 Axes>"
      ]
     },
     "metadata": {},
     "output_type": "display_data"
    }
   ],
   "source": [
    "# Cobros mensuales promedios de los usuarios dentro y fuera de New York Newak Jersey\n",
    "\n",
    "in_ny = users_resume.query('city == \"New York-Newark-Jersey City, NY-NJ-PA MSA\"')[['full_charge','month']]\n",
    "out_ny = users_resume.query('city != \"New York-Newark-Jersey City, NY-NJ-PA MSA\"')[['full_charge','month']]\n",
    "\n",
    "plt.plot(in_ny.pivot_table(index='month',  values='full_charge', aggfunc='mean'), label='NY-NJ-PA MSA')\n",
    "plt.plot(out_ny.pivot_table(index='month', values='full_charge', aggfunc='mean'), label='other states')\n",
    "\n",
    "plt.title('Average income monthly in and out NY-NJ-PA MSA')\n",
    "plt.legend()\n",
    "plt.xlabel('month')\n",
    "plt.ylabel('charge USD')\n",
    "plt.show()"
   ]
  },
  {
   "cell_type": "markdown",
   "id": "304afbf5",
   "metadata": {},
   "source": [
    "Como dato adicional, podemos observar que en el estado de NY-NJ en el primer semestre los usuarios pagaron por debajo de los 50 usd, y en el último semestre del año sus pagos suben de manera ascendente hasta los 65 USD.\n",
    "\n",
    "Por otro lado los ingresos obtenidos de los usuarios del resto de estados el primer semestre empieza sobre los 50 USD alcanzando hasta final de año un pago de servicios de más de 65 USD."
   ]
  },
  {
   "cell_type": "markdown",
   "id": "427d592a",
   "metadata": {},
   "source": [
    "### Prueba de hipótesis 2"
   ]
  },
  {
   "cell_type": "markdown",
   "id": "3df90710",
   "metadata": {},
   "source": [
    "Formulación de hipótesis nula H0 e hipótesis alternativa Ha. El nivel de significancia es del 5% asumiendo que el nivel de confianza es del 95%.\n",
    "\n",
    "*  **H0: El ingreso promedio de los usuarios en el área de estados Nueva York-Nueva Jersey es igual al de los usuarios de otras regiones**.\n",
    "*  Ha: El ingreso promedio de los usuarios en el área de estados Nueva York-Nueva Jersey es diferente al de los usuarios de otras regiones.\n",
    "*  alpha 0.05"
   ]
  },
  {
   "cell_type": "code",
   "execution_count": 63,
   "id": "20f7ce1a",
   "metadata": {
    "ExecuteTime": {
     "end_time": "2023-01-05T13:45:27.269030Z",
     "start_time": "2023-01-05T13:45:27.255137Z"
    }
   },
   "outputs": [
    {
     "name": "stdout",
     "output_type": "stream",
     "text": [
      "p-value:  0.043557431621342436\n",
      "Rechazamos la hipótesis nula\n"
     ]
    }
   ],
   "source": [
    "alpha = 0.05\n",
    "results = st.ttest_ind(ny_nj, others)\n",
    "\n",
    "print('p-value: ', results.pvalue)\n",
    "\n",
    "if results.pvalue < alpha:\n",
    "    print(\"Rechazamos la hipótesis nula\")\n",
    "else:\n",
    "    print(\"No rechazamos la hipótesis nula\")"
   ]
  },
  {
   "cell_type": "code",
   "execution_count": 64,
   "id": "0a5066cf",
   "metadata": {
    "ExecuteTime": {
     "end_time": "2023-01-05T13:45:27.303674Z",
     "start_time": "2023-01-05T13:45:27.270238Z"
    }
   },
   "outputs": [
    {
     "name": "stdout",
     "output_type": "stream",
     "text": [
      "Average income in of NY-NJ-PA MSA is: 59.92\n",
      "Average income out of NY-NJ-PA MSA is: 65.22\n"
     ]
    }
   ],
   "source": [
    "# promedios de ingresos dentro y fuera del estado NY-NJ-PA MSA\n",
    "print(f'Average income in of NY-NJ-PA MSA is: {ny_nj.mean():.2f}')\n",
    "print(f'Average income out of NY-NJ-PA MSA is: {others.mean():.2f}')"
   ]
  },
  {
   "cell_type": "markdown",
   "id": "dcd68b10",
   "metadata": {},
   "source": [
    "Rechazamos la hipótesis nula, es decir, la afirmación de que el ingreso promedio de los usuarios en el estado \"New York-Newark-Jersey City, NY-NJ-PA MSA\" es igual al de otros estados, se descarta. El ingreso promedio por usuarios del area de estados New York-Newark Jersey es de 59.92 USD y el ingreso promedio de otros estados es de 65.22 USD."
   ]
  },
  {
   "cell_type": "markdown",
   "id": "65c04598",
   "metadata": {},
   "source": [
    "# Conclusión general<a id='con'></a>"
   ]
  },
  {
   "cell_type": "markdown",
   "id": "13626fb1",
   "metadata": {},
   "source": [
    "En la fase inicial creamos una tabla resumen con la información de 5 tablas previstas por Megaline, esta tabla es llamada `users_resume` con un total de 2293 registros y 9 columnas, contiene registros de 500 usuarios por mes sobre las llamadas, mensajes y datos usados, cobros por servicios y ciudad/estado al que pertenece. Las columnas en esta tabla son: user_id,month, calls_used, minutes_used, sms_used, gb_used, plan, full_charge, city.\n",
    "\n",
    "Después se analizó el comportamiento de los usuarios respecto a los consumos que necesitaron cada mes en cada tarifa y obtuvimos que:\n",
    "\n",
    "* *Consumo Minutos*: La mayoría de usuarios *Surf* consumen aproximadamente 400 minutos mensuales, y la mayoría de usuarios con plan *Ultimate* consumen 500 minutos mensuales. El consumo promedio de minutos de usuarios *Surf* es de 429 y el de *Ultimate* es de 430, muy similar. Existen clientes atípicos con consumos de más de 1000 minutos al mes en ambos planes.\n",
    "\n",
    "\n",
    "* *Consumo SMS*: En ambos planes los usuarios usan pocos mensajes de texto; la mayoría de usuarios *Surf*  consumen al menos 10 mensajes mensuales y la mayoría de usuarios *Ultimate* consumen al menos 20 mensajes de texto mensuales. Existen usuarios con consumos atípico de más de 100 minutos al mes. El consumo promedio de mensajes de texto de usuarios *Surf* es de 31 y el de *Ultimate* es de 38, no muy diferentes.\n",
    "\n",
    "\n",
    "* *Consumo GB*: El consumo es similar para usuarios *Surf* y *Ultimate* la mayoría de usuarios requieren unos 17 Gigabytes de datos para navegar en internet. Existen usuarios atípicos con consumos de más de 40 Gibabytes de datos al mes. El consumo promedio de Gigabytes de datos de usuarios *Surf* y *Ultimate* es de 17.\n",
    "\n",
    "\n",
    "\n",
    "Finalmente, hicimos 2 pruebas de hipótesis:\n",
    "\n",
    "\n",
    "**Hipotesis 1: El ingreso promedio de los usuarios de las tarifas Ultimate y Surf es igual** \n",
    "\n",
    "Rechazamos la hipótesis nula, es decir es falsa la hipótesis de que el ingreso promedio de los usuarios de las tarifas Ultimate y Surf son iguales. \n",
    "\n",
    "El plan más rentable es el Ultimate. Ya que su ingreso promedio es de 72.31 USD y el de usuarios Surf es de 60.71 USD.\n",
    "\n",
    "**Hipótesis 2: El ingreso promedio de los usuarios en el área de estados Nueva York-Nueva Jersey es igual al de los usuarios de otras regiones.**\n",
    "\n",
    "Rechazamos la hipótesis nula, es decir, el ingreso promedio de los usuarios en el estado \"New York-Newark-Jersey City, NY-NJ-PA MSA\" es diferente al de otros estados. \n",
    "\n",
    "Los usuarios de New York-Newark Jersey no son más rentables que los usuarios del resto de estados, ya que el primero tiene un ingreso promedio de 59.92 USD y el segundo es de 65.22 USD."
   ]
  }
 ],
 "metadata": {
  "hide_input": false,
  "kernelspec": {
   "display_name": "Python [conda env:env39]",
   "language": "python",
   "name": "conda-env-env39-py"
  },
  "language_info": {
   "codemirror_mode": {
    "name": "ipython",
    "version": 3
   },
   "file_extension": ".py",
   "mimetype": "text/x-python",
   "name": "python",
   "nbconvert_exporter": "python",
   "pygments_lexer": "ipython3",
   "version": "3.9.15"
  },
  "toc": {
   "base_numbering": 1,
   "nav_menu": {},
   "number_sections": true,
   "sideBar": true,
   "skip_h1_title": false,
   "title_cell": "Table of Contents",
   "title_sidebar": "Contents",
   "toc_cell": false,
   "toc_position": {
    "height": "calc(100% - 180px)",
    "left": "10px",
    "top": "150px",
    "width": "215.984px"
   },
   "toc_section_display": true,
   "toc_window_display": true
  }
 },
 "nbformat": 4,
 "nbformat_minor": 5
}
